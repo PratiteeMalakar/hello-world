{
  "nbformat": 4,
  "nbformat_minor": 0,
  "metadata": {
    "colab": {
      "provenance": [],
      "authorship_tag": "ABX9TyNIb2PYCBeAj1/ukhm6tgwn",
      "include_colab_link": true
    },
    "kernelspec": {
      "name": "python3",
      "display_name": "Python 3"
    },
    "language_info": {
      "name": "python"
    }
  },
  "cells": [
    {
      "cell_type": "markdown",
      "metadata": {
        "id": "view-in-github",
        "colab_type": "text"
      },
      "source": [
        "<a href=\"https://colab.research.google.com/github/PratiteeMalakar/hello-world/blob/main/Untitled6.ipynb\" target=\"_parent\"><img src=\"https://colab.research.google.com/assets/colab-badge.svg\" alt=\"Open In Colab\"/></a>"
      ]
    },
    {
      "cell_type": "code",
      "execution_count": 6,
      "metadata": {
        "colab": {
          "base_uri": "https://localhost:8080/"
        },
        "id": "u0IlyZr8BWUD",
        "outputId": "29b101ee-e205-4019-eee1-0b13d47f2bd4"
      },
      "outputs": [
        {
          "output_type": "stream",
          "name": "stdout",
          "text": [
            "Tira Beauty Bestsellers: []\n"
          ]
        }
      ],
      "source": [
        "import requests\n",
        "from bs4 import BeautifulSoup\n",
        "import json\n",
        "import time\n",
        "\n",
        "# Function to scrape the website\n",
        "def scrape_website(url):\n",
        "    response = requests.get(url)\n",
        "    if response.status_code == 200:\n",
        "        return response.text\n",
        "    else:\n",
        "        return None\n",
        "\n",
        "# Function to parse top 10 bestsellers from Tira Beauty\n",
        "def parse_tira_bestsellers(html_content):\n",
        "    soup = BeautifulSoup(html_content, 'html.parser')\n",
        "    bestsellers = []\n",
        "    for product in soup.find_all('div', class_='product-title-container', limit=10):\n",
        "        product_info = {\n",
        "            'name': product.find('h2', id_='product-title-container').text.strip(),\n",
        "            'url': product.find('a', class_='product-link')['href']\n",
        "        }\n",
        "        bestsellers.append(product_info)\n",
        "    return bestsellers\n",
        "\n",
        "# Main function to scrape Tira Beauty bestsellers\n",
        "def main_tira_bestsellers():\n",
        "    # headers = {'User-Agent': 'Mozilla/5.0 (Windows NT 10.0; Win64; x64) AppleWebKit/537.36 (KHTML, like Gecko) Chrome/91.0.4472.124 Safari/537.36'}\n",
        "    tira_url = 'http://www.tirabeauty.com/products'\n",
        "    html_content = scrape_website(tira_url)\n",
        "    if html_content:\n",
        "        bestsellers = parse_tira_bestsellers(html_content)\n",
        "        return bestsellers\n",
        "    return []\n",
        "\n",
        "tira_bestsellers = main_tira_bestsellers()\n",
        "print(\"Tira Beauty Bestsellers:\", tira_bestsellers)\n"
      ]
    },
    {
      "cell_type": "code",
      "source": [
        "import requests\n",
        "from bs4 import BeautifulSoup\n",
        "\n",
        "# URL of the website to scrape\n",
        "url = 'https://en.wikipedia.org/wiki/Tira_(cosmetics)'\n",
        "\n",
        "# Send a GET request to the website\n",
        "response = requests.get(url)\n",
        "\n",
        "# Check if the request was successful\n",
        "if response.status_code == 200:\n",
        "    # Parse the HTML content of the page\n",
        "    soup = BeautifulSoup(response.content, 'html.parser')\n",
        "\n",
        "    # Example: Extract all paragraph texts\n",
        "    paragraphs = soup.find_all('p')\n",
        "    for p in paragraphs:\n",
        "        print(p.get_text())\n",
        "else:\n",
        "    print(f\"Failed to retrieve the webpage. Status code: {response.status_code}\")\n"
      ],
      "metadata": {
        "colab": {
          "base_uri": "https://localhost:8080/"
        },
        "id": "jhZDw3VaTP7G",
        "outputId": "3b9ed339-a311-4cfa-8e7d-863d2bae7c4f"
      },
      "execution_count": 3,
      "outputs": [
        {
          "output_type": "stream",
          "name": "stdout",
          "text": [
            "Tira is an omnichannel beauty retail platform,[1][2] owned by Reliance Retail, a subsidiary of Reliance Industries.[3] It is headed by Isha Ambani, who serves as the executive director and is the daughter of Mukesh Ambani.[4][5][6]\n",
            "\n",
            "In October 2022, Business Standard reported that Reliance Retail was planning to launch a beauty platform under the name ‘Tira Beauty’.[7][8] The name tira was inspired by the goddess Rati, who symbolizes love, passion and beauty.[9]\n",
            "\n",
            "In February 2023, Reliance Retail launched Tira as an e-commerce platform, with an app, a website, and a 4,300 sq ft store at Jio World Drive in Mumbai.[10] The app became operational in over 100 cities.[1][11][2]\n",
            "\n",
            "In September 2023, South Korean beauty and cosmetics conglomerate Amorepacific Corp formed a partnership with Reliance Retail.[12][13] Tira later added stores in Bangalore, Pune,[14] Mumbai, New Delhi, Hyderabad, and Chennai.[15]\n",
            "\n",
            "Tira launched its first campaign, titled 'For Every You,' with Kareena Kapoor Khan, Kiara Advani, and Suhana Khan.[16]\n",
            "\n"
          ]
        }
      ]
    },
    {
      "cell_type": "code",
      "source": [
        "import requests\n",
        "from bs4 import BeautifulSoup\n",
        "import pandas as pd\n",
        "\n",
        "# URL of the product page on Purplle.com\n",
        "url = 'https://www.ulta.com/featured/ubc_collection'\n",
        "\n",
        "# Send a GET request to the webpage\n",
        "response = requests.get(url)\n",
        "response.raise_for_status()  # Check if the request was successful\n",
        "\n",
        "# Parse the HTML content\n",
        "soup = BeautifulSoup(response.content, 'html.parser')\n",
        "\n",
        "# Find product containers (update the class names based on the actual website structure)\n",
        "products = soup.find_all('div', class_='ProductInformation')\n",
        "\n",
        "data = {'Product Name': [], 'Brand': [], 'Reviews': [], 'Price': []}\n",
        "\n",
        "for product in products:\n",
        "    # Extract product name\n",
        "    name = product.find('span', class_='Text-ds Text-ds--title-5 Text-ds--left Text-ds--black').get_text(strip=True)\n",
        "    data['Product Name'].append(name)\n",
        "\n",
        "    # Extract brand\n",
        "    # brand = product.find('span', class_='Text-ds Text-ds--title-5 Text-ds--left Text-ds--black').get_text(strip=True)\n",
        "    # data['Brand'].append(brand)\n",
        "\n",
        "    # Extract reviews\n",
        "    reviews = product.find('span', class_='ProductReviews__Content').get_text(strip=True)\n",
        "    data['Reviews'].append(reviews)\n",
        "\n",
        "    # # Extract price\n",
        "    # price = product.find('span', class_='product-price').get_text(strip=True)\n",
        "    # data['Price'].append(price)\n",
        "\n",
        "# Create a DataFrame and save it to a CSV file\n",
        "df = pd.DataFrame(data)\n",
        "df.to_csv('purplle_products.csv', index=False)\n"
      ],
      "metadata": {
        "id": "gYqFY0b3TP9x"
      },
      "execution_count": 8,
      "outputs": []
    },
    {
      "cell_type": "code",
      "source": [
        "df.head()"
      ],
      "metadata": {
        "colab": {
          "base_uri": "https://localhost:8080/",
          "height": 53
        },
        "id": "rYyz0vTWYzgf",
        "outputId": "9b0a0a75-3952-4d10-9ee4-dc41dd704ffb"
      },
      "execution_count": 10,
      "outputs": [
        {
          "output_type": "execute_result",
          "data": {
            "text/plain": [
              "Empty DataFrame\n",
              "Columns: [Product Name, Brand, Reviews, Price]\n",
              "Index: []"
            ],
            "text/html": [
              "\n",
              "  <div id=\"df-907dffb9-fe57-463f-97b5-1e1ff0bdde68\" class=\"colab-df-container\">\n",
              "    <div>\n",
              "<style scoped>\n",
              "    .dataframe tbody tr th:only-of-type {\n",
              "        vertical-align: middle;\n",
              "    }\n",
              "\n",
              "    .dataframe tbody tr th {\n",
              "        vertical-align: top;\n",
              "    }\n",
              "\n",
              "    .dataframe thead th {\n",
              "        text-align: right;\n",
              "    }\n",
              "</style>\n",
              "<table border=\"1\" class=\"dataframe\">\n",
              "  <thead>\n",
              "    <tr style=\"text-align: right;\">\n",
              "      <th></th>\n",
              "      <th>Product Name</th>\n",
              "      <th>Brand</th>\n",
              "      <th>Reviews</th>\n",
              "      <th>Price</th>\n",
              "    </tr>\n",
              "  </thead>\n",
              "  <tbody>\n",
              "  </tbody>\n",
              "</table>\n",
              "</div>\n",
              "    <div class=\"colab-df-buttons\">\n",
              "\n",
              "  <div class=\"colab-df-container\">\n",
              "    <button class=\"colab-df-convert\" onclick=\"convertToInteractive('df-907dffb9-fe57-463f-97b5-1e1ff0bdde68')\"\n",
              "            title=\"Convert this dataframe to an interactive table.\"\n",
              "            style=\"display:none;\">\n",
              "\n",
              "  <svg xmlns=\"http://www.w3.org/2000/svg\" height=\"24px\" viewBox=\"0 -960 960 960\">\n",
              "    <path d=\"M120-120v-720h720v720H120Zm60-500h600v-160H180v160Zm220 220h160v-160H400v160Zm0 220h160v-160H400v160ZM180-400h160v-160H180v160Zm440 0h160v-160H620v160ZM180-180h160v-160H180v160Zm440 0h160v-160H620v160Z\"/>\n",
              "  </svg>\n",
              "    </button>\n",
              "\n",
              "  <style>\n",
              "    .colab-df-container {\n",
              "      display:flex;\n",
              "      gap: 12px;\n",
              "    }\n",
              "\n",
              "    .colab-df-convert {\n",
              "      background-color: #E8F0FE;\n",
              "      border: none;\n",
              "      border-radius: 50%;\n",
              "      cursor: pointer;\n",
              "      display: none;\n",
              "      fill: #1967D2;\n",
              "      height: 32px;\n",
              "      padding: 0 0 0 0;\n",
              "      width: 32px;\n",
              "    }\n",
              "\n",
              "    .colab-df-convert:hover {\n",
              "      background-color: #E2EBFA;\n",
              "      box-shadow: 0px 1px 2px rgba(60, 64, 67, 0.3), 0px 1px 3px 1px rgba(60, 64, 67, 0.15);\n",
              "      fill: #174EA6;\n",
              "    }\n",
              "\n",
              "    .colab-df-buttons div {\n",
              "      margin-bottom: 4px;\n",
              "    }\n",
              "\n",
              "    [theme=dark] .colab-df-convert {\n",
              "      background-color: #3B4455;\n",
              "      fill: #D2E3FC;\n",
              "    }\n",
              "\n",
              "    [theme=dark] .colab-df-convert:hover {\n",
              "      background-color: #434B5C;\n",
              "      box-shadow: 0px 1px 3px 1px rgba(0, 0, 0, 0.15);\n",
              "      filter: drop-shadow(0px 1px 2px rgba(0, 0, 0, 0.3));\n",
              "      fill: #FFFFFF;\n",
              "    }\n",
              "  </style>\n",
              "\n",
              "    <script>\n",
              "      const buttonEl =\n",
              "        document.querySelector('#df-907dffb9-fe57-463f-97b5-1e1ff0bdde68 button.colab-df-convert');\n",
              "      buttonEl.style.display =\n",
              "        google.colab.kernel.accessAllowed ? 'block' : 'none';\n",
              "\n",
              "      async function convertToInteractive(key) {\n",
              "        const element = document.querySelector('#df-907dffb9-fe57-463f-97b5-1e1ff0bdde68');\n",
              "        const dataTable =\n",
              "          await google.colab.kernel.invokeFunction('convertToInteractive',\n",
              "                                                    [key], {});\n",
              "        if (!dataTable) return;\n",
              "\n",
              "        const docLinkHtml = 'Like what you see? Visit the ' +\n",
              "          '<a target=\"_blank\" href=https://colab.research.google.com/notebooks/data_table.ipynb>data table notebook</a>'\n",
              "          + ' to learn more about interactive tables.';\n",
              "        element.innerHTML = '';\n",
              "        dataTable['output_type'] = 'display_data';\n",
              "        await google.colab.output.renderOutput(dataTable, element);\n",
              "        const docLink = document.createElement('div');\n",
              "        docLink.innerHTML = docLinkHtml;\n",
              "        element.appendChild(docLink);\n",
              "      }\n",
              "    </script>\n",
              "  </div>\n",
              "\n",
              "\n",
              "    </div>\n",
              "  </div>\n"
            ],
            "application/vnd.google.colaboratory.intrinsic+json": {
              "type": "dataframe",
              "variable_name": "df",
              "summary": "{\n  \"name\": \"df\",\n  \"rows\": 0,\n  \"fields\": [\n    {\n      \"column\": \"Product Name\",\n      \"properties\": {\n        \"dtype\": \"number\",\n        \"std\": null,\n        \"min\": null,\n        \"max\": null,\n        \"num_unique_values\": 0,\n        \"samples\": [],\n        \"semantic_type\": \"\",\n        \"description\": \"\"\n      }\n    },\n    {\n      \"column\": \"Brand\",\n      \"properties\": {\n        \"dtype\": \"number\",\n        \"std\": null,\n        \"min\": null,\n        \"max\": null,\n        \"num_unique_values\": 0,\n        \"samples\": [],\n        \"semantic_type\": \"\",\n        \"description\": \"\"\n      }\n    },\n    {\n      \"column\": \"Reviews\",\n      \"properties\": {\n        \"dtype\": \"number\",\n        \"std\": null,\n        \"min\": null,\n        \"max\": null,\n        \"num_unique_values\": 0,\n        \"samples\": [],\n        \"semantic_type\": \"\",\n        \"description\": \"\"\n      }\n    },\n    {\n      \"column\": \"Price\",\n      \"properties\": {\n        \"dtype\": \"number\",\n        \"std\": null,\n        \"min\": null,\n        \"max\": null,\n        \"num_unique_values\": 0,\n        \"samples\": [],\n        \"semantic_type\": \"\",\n        \"description\": \"\"\n      }\n    }\n  ]\n}"
            }
          },
          "metadata": {},
          "execution_count": 10
        }
      ]
    },
    {
      "cell_type": "code",
      "source": [
        "import requests\n",
        "from bs4 import BeautifulSoup\n",
        "import json\n",
        "\n",
        "# URL of the website page\n",
        "url = 'https://www.ulta.com/p/eyeshadow-single-pimprod2045216'  # Example URL\n",
        "\n",
        "# Fetch the content of the page\n",
        "response = requests.get(url)\n",
        "response.raise_for_status()  # Ensure the request was successful\n",
        "\n",
        "# Parse the HTML content using BeautifulSoup\n",
        "soup = BeautifulSoup(response.content, 'html.parser')\n",
        "\n",
        "# Find the script tag with type \"application/ld+json\"\n",
        "script_tag = soup.find('script', type='application/ld+json')\n",
        "# json_content = json.loads(script_tag.string)\n",
        "\n",
        "# Extract relevant information\n",
        "product_name = json_content.get('name')\n",
        "product_description = json_content.get('description')\n",
        "product_reviews = json_content.get('review')\n",
        "\n",
        "print(f\"Product Name: {product_name}\")\n",
        "print(f\"Description: {product_description}\")\n",
        "print(\"Reviews:\")\n",
        "for review in product_reviews:\n",
        "    author = review['author']['name']\n",
        "    review_body = review['reviewBody']\n",
        "    rating = review['reviewRating']['ratingValue']\n",
        "    date = review['datePublished']\n",
        "    print(f\" - {author} ({date}): {rating} stars\\n   {review_body}\\n\")\n"
      ],
      "metadata": {
        "colab": {
          "base_uri": "https://localhost:8080/",
          "height": 211
        },
        "id": "NL_IylvXaism",
        "outputId": "2158435e-ab88-4042-bd74-4d1bb898c71f"
      },
      "execution_count": 13,
      "outputs": [
        {
          "output_type": "error",
          "ename": "NameError",
          "evalue": "name 'json_content' is not defined",
          "traceback": [
            "\u001b[0;31m---------------------------------------------------------------------------\u001b[0m",
            "\u001b[0;31mNameError\u001b[0m                                 Traceback (most recent call last)",
            "\u001b[0;32m<ipython-input-13-3a0c03fabcfb>\u001b[0m in \u001b[0;36m<cell line: 20>\u001b[0;34m()\u001b[0m\n\u001b[1;32m     18\u001b[0m \u001b[0;34m\u001b[0m\u001b[0m\n\u001b[1;32m     19\u001b[0m \u001b[0;31m# Extract relevant information\u001b[0m\u001b[0;34m\u001b[0m\u001b[0;34m\u001b[0m\u001b[0m\n\u001b[0;32m---> 20\u001b[0;31m \u001b[0mproduct_name\u001b[0m \u001b[0;34m=\u001b[0m \u001b[0mjson_content\u001b[0m\u001b[0;34m.\u001b[0m\u001b[0mget\u001b[0m\u001b[0;34m(\u001b[0m\u001b[0;34m'name'\u001b[0m\u001b[0;34m)\u001b[0m\u001b[0;34m\u001b[0m\u001b[0;34m\u001b[0m\u001b[0m\n\u001b[0m\u001b[1;32m     21\u001b[0m \u001b[0mproduct_description\u001b[0m \u001b[0;34m=\u001b[0m \u001b[0mjson_content\u001b[0m\u001b[0;34m.\u001b[0m\u001b[0mget\u001b[0m\u001b[0;34m(\u001b[0m\u001b[0;34m'description'\u001b[0m\u001b[0;34m)\u001b[0m\u001b[0;34m\u001b[0m\u001b[0;34m\u001b[0m\u001b[0m\n\u001b[1;32m     22\u001b[0m \u001b[0mproduct_reviews\u001b[0m \u001b[0;34m=\u001b[0m \u001b[0mjson_content\u001b[0m\u001b[0;34m.\u001b[0m\u001b[0mget\u001b[0m\u001b[0;34m(\u001b[0m\u001b[0;34m'review'\u001b[0m\u001b[0;34m)\u001b[0m\u001b[0;34m\u001b[0m\u001b[0;34m\u001b[0m\u001b[0m\n",
            "\u001b[0;31mNameError\u001b[0m: name 'json_content' is not defined"
          ]
        }
      ]
    },
    {
      "cell_type": "code",
      "source": [
        "<span class=\"Text-ds Text-ds--title-5 Text-ds--left Text-ds--black\">Matte Veil Setting Spray</span>"
      ],
      "metadata": {
        "id": "WHgA7B9dTQAx"
      },
      "execution_count": null,
      "outputs": []
    },
    {
      "cell_type": "code",
      "source": [
        "import pandas as pd\n",
        "\n",
        "pd.read_csv('purplle_products.csv')"
      ],
      "metadata": {
        "colab": {
          "base_uri": "https://localhost:8080/",
          "height": 53
        },
        "id": "lo3oVOIJTQDO",
        "outputId": "7665f0c9-5706-407c-a059-5c52b3adb925"
      },
      "execution_count": 7,
      "outputs": [
        {
          "output_type": "execute_result",
          "data": {
            "text/plain": [
              "Empty DataFrame\n",
              "Columns: [Product Name, Brand, Reviews, Price]\n",
              "Index: []"
            ],
            "text/html": [
              "\n",
              "  <div id=\"df-8c1523d3-21b6-4961-be32-081ff2c6aca4\" class=\"colab-df-container\">\n",
              "    <div>\n",
              "<style scoped>\n",
              "    .dataframe tbody tr th:only-of-type {\n",
              "        vertical-align: middle;\n",
              "    }\n",
              "\n",
              "    .dataframe tbody tr th {\n",
              "        vertical-align: top;\n",
              "    }\n",
              "\n",
              "    .dataframe thead th {\n",
              "        text-align: right;\n",
              "    }\n",
              "</style>\n",
              "<table border=\"1\" class=\"dataframe\">\n",
              "  <thead>\n",
              "    <tr style=\"text-align: right;\">\n",
              "      <th></th>\n",
              "      <th>Product Name</th>\n",
              "      <th>Brand</th>\n",
              "      <th>Reviews</th>\n",
              "      <th>Price</th>\n",
              "    </tr>\n",
              "  </thead>\n",
              "  <tbody>\n",
              "  </tbody>\n",
              "</table>\n",
              "</div>\n",
              "    <div class=\"colab-df-buttons\">\n",
              "\n",
              "  <div class=\"colab-df-container\">\n",
              "    <button class=\"colab-df-convert\" onclick=\"convertToInteractive('df-8c1523d3-21b6-4961-be32-081ff2c6aca4')\"\n",
              "            title=\"Convert this dataframe to an interactive table.\"\n",
              "            style=\"display:none;\">\n",
              "\n",
              "  <svg xmlns=\"http://www.w3.org/2000/svg\" height=\"24px\" viewBox=\"0 -960 960 960\">\n",
              "    <path d=\"M120-120v-720h720v720H120Zm60-500h600v-160H180v160Zm220 220h160v-160H400v160Zm0 220h160v-160H400v160ZM180-400h160v-160H180v160Zm440 0h160v-160H620v160ZM180-180h160v-160H180v160Zm440 0h160v-160H620v160Z\"/>\n",
              "  </svg>\n",
              "    </button>\n",
              "\n",
              "  <style>\n",
              "    .colab-df-container {\n",
              "      display:flex;\n",
              "      gap: 12px;\n",
              "    }\n",
              "\n",
              "    .colab-df-convert {\n",
              "      background-color: #E8F0FE;\n",
              "      border: none;\n",
              "      border-radius: 50%;\n",
              "      cursor: pointer;\n",
              "      display: none;\n",
              "      fill: #1967D2;\n",
              "      height: 32px;\n",
              "      padding: 0 0 0 0;\n",
              "      width: 32px;\n",
              "    }\n",
              "\n",
              "    .colab-df-convert:hover {\n",
              "      background-color: #E2EBFA;\n",
              "      box-shadow: 0px 1px 2px rgba(60, 64, 67, 0.3), 0px 1px 3px 1px rgba(60, 64, 67, 0.15);\n",
              "      fill: #174EA6;\n",
              "    }\n",
              "\n",
              "    .colab-df-buttons div {\n",
              "      margin-bottom: 4px;\n",
              "    }\n",
              "\n",
              "    [theme=dark] .colab-df-convert {\n",
              "      background-color: #3B4455;\n",
              "      fill: #D2E3FC;\n",
              "    }\n",
              "\n",
              "    [theme=dark] .colab-df-convert:hover {\n",
              "      background-color: #434B5C;\n",
              "      box-shadow: 0px 1px 3px 1px rgba(0, 0, 0, 0.15);\n",
              "      filter: drop-shadow(0px 1px 2px rgba(0, 0, 0, 0.3));\n",
              "      fill: #FFFFFF;\n",
              "    }\n",
              "  </style>\n",
              "\n",
              "    <script>\n",
              "      const buttonEl =\n",
              "        document.querySelector('#df-8c1523d3-21b6-4961-be32-081ff2c6aca4 button.colab-df-convert');\n",
              "      buttonEl.style.display =\n",
              "        google.colab.kernel.accessAllowed ? 'block' : 'none';\n",
              "\n",
              "      async function convertToInteractive(key) {\n",
              "        const element = document.querySelector('#df-8c1523d3-21b6-4961-be32-081ff2c6aca4');\n",
              "        const dataTable =\n",
              "          await google.colab.kernel.invokeFunction('convertToInteractive',\n",
              "                                                    [key], {});\n",
              "        if (!dataTable) return;\n",
              "\n",
              "        const docLinkHtml = 'Like what you see? Visit the ' +\n",
              "          '<a target=\"_blank\" href=https://colab.research.google.com/notebooks/data_table.ipynb>data table notebook</a>'\n",
              "          + ' to learn more about interactive tables.';\n",
              "        element.innerHTML = '';\n",
              "        dataTable['output_type'] = 'display_data';\n",
              "        await google.colab.output.renderOutput(dataTable, element);\n",
              "        const docLink = document.createElement('div');\n",
              "        docLink.innerHTML = docLinkHtml;\n",
              "        element.appendChild(docLink);\n",
              "      }\n",
              "    </script>\n",
              "  </div>\n",
              "\n",
              "\n",
              "    </div>\n",
              "  </div>\n"
            ],
            "application/vnd.google.colaboratory.intrinsic+json": {
              "type": "dataframe",
              "repr_error": "Out of range float values are not JSON compliant: nan"
            }
          },
          "metadata": {},
          "execution_count": 7
        }
      ]
    },
    {
      "cell_type": "code",
      "source": [
        "<div class=\"ProductReviews__Content\"><script type=\"application/ld+json\">{\"@context\":\"https://schema.org/\",\"@type\":\"Product\",\"description\":\"Buttery soft shadows for your every mood. Ulta Beauty Collection's Eye Shadow Singles glide on smoothly for a vibrant, velvety finish. Play around with matte, shimmer and metallic finishes for every eye look.\",\"brand\":\"ULTA Beauty Collection\",\"name\":\"Eyeshadow Single\",\"image\":\"https://media.ulta.com/i/ulta/2616812?w=500&h=500\",\"productID\":\"pimprod2045216\",\"sku\":\"2616812\",\"offers\":{\"@type\":\"Offer\",\"availability\":\"https://schema.org/InStock\",\"price\":\"9.00\",\"priceCurrency\":\"USD\",\"url\":\"https://www.ulta.com/p/eyeshadow-single-pimprod2045216\"},\"color\":\"Summer In Paris\",\"aggregateRating\":{\"@type\":\"AggregateRating\",\"ratingValue\":4.2,\"reviewCount\":2586},\"review\":[{\"@type\":\"Review\",\"name\":\"Good color\",\"reviewBody\":\"Good color, good coverage\",\"datePublished\":\"2024-07-30\",\"author\":{\"@type\":\"Person\",\"name\":\"Joy\"},\"locationCreated\":{\"@type\":\"AdministrativeArea\",\"name\":\"Nevada\"},\"reviewRating\":{\"@type\":\"Rating\",\"ratingValue\":4}},{\"@type\":\"Review\",\"name\":\"I'm glad I found this eye shadow.\",\"reviewBody\":\"I love this eye shadow. It's not cakey and super dry. It glides on easy and lasts all day. This is my new \\\"go to\\\" for eye shadow.\",\"datePublished\":\"2024-07-28\",\"author\":{\"@type\":\"Person\",\"name\":\"Vicki\"},\"locationCreated\":{\"@type\":\"AdministrativeArea\",\"name\":\"San Diego\"},\"reviewRating\":{\"@type\":\"Rating\",\"ratingValue\":5}},{\"@type\":\"Review\",\"name\":\"I would buy this again\",\"reviewBody\":\"Easy to apply and doesnt cake up or cause creases. Very nice for my ols lady eyelids\",\"datePublished\":\"2024-07-28\",\"author\":{\"@type\":\"Person\",\"name\":\"Dianne\"},\"locationCreated\":{\"@type\":\"AdministrativeArea\",\"name\":\"Kalamazzo mi\"},\"reviewRating\":{\"@type\":\"Rating\",\"ratingValue\":5}},{\"@type\":\"Review\",\"name\":\"Love the product - HATE the new packaging!\",\"reviewBody\":\"I've been using Ulta's eyeshadows for years and have always loved them. What I loved most about this line of eyeshadow is that they are sold as singles and you aren't forced to buy an entire palette of shades where you wind up using only one or two of the shades that come with the palette. Ulta's old packaging allowed for the eyeshadow to pop out of its compact if you wanted to put it into a magnetic palette with other shades. Having all my favorite shades in one palette was so convenient and eliminated having multiple little eyeshadow compacts floating around my makeup drawer/bag. With the new packaging, the eyeshadow cannot be removed from the compact. I am very disappointed and will look for a different eyeshadow brand that sells single eyeshadows that have the feature to remove it from its compact.\",\"datePublished\":\"2024-07-27\",\"author\":{\"@type\":\"Person\",\"name\":\"Rose D\"},\"locationCreated\":{\"@type\":\"AdministrativeArea\",\"name\":\"Virginia\"},\"reviewRating\":{\"@type\":\"Rating\",\"ratingValue\":4}},{\"@type\":\"Review\",\"name\":\"Broke\",\"reviewBody\":\"It broke after about a day of having it\",\"datePublished\":\"2024-07-19\",\"author\":{\"@type\":\"Person\",\"name\":\"Worst eyeshadow single\"},\"locationCreated\":{\"@type\":\"AdministrativeArea\",\"name\":\"Maryland\"},\"reviewRating\":{\"@type\":\"Rating\",\"ratingValue\":2}}]}</script><noscript><h3 class=\"Text-ds Text-ds--title-6 Text-ds--left Text-ds--black\">Beautiful colors that take some time to work with</h3><p class=\"Text-ds Text-ds--body-1 Text-ds--left Text-ds--black\">I got five colors to fill up a 4-pan palette and have a spare online: Roaring 20&#x27;s, Valentine, Beauty Junkie, Peek-a-boo, and Risk Taker. I ended up keeping Valentine, Beauty Junkie, Risk taker, and swapped the other two out for Fearless. I also played around with a few of the colors in the store: Watercolor (soooooo beautiful!), Petite, Modern Times, Plum Pop, and probably a few more.\n",
        "There&#x27;s three finishes: matte, shimmer, and micro glitter. I&#x27;m not a big matte girl, but the mattes I tried were beautiful, although I can&#x27;t say how easy they are to blend. The shimmers I think are a little easier to blend than the micro glitters, but Peek-a-boo was too light for me (and I have very fair skin!); it barely showed up even with primer. It would probably be a great highlight color on a darker skin tone, though.\n",
        "The micro glitters are a little hard to work with, but they are so so so beautiful. There is fallout, and blending them takes some work. But eye shadow isn&#x27;t worth my time if it isn&#x27;t glittery, and they are so shiny and beautiful on my eyes. The colors I have work together nicely to make an eye look I love, although I&#x27;m also using other colors for transition colors and base.\n",
        "One of my biggest problems is the packaging, though. As I said, I got the 4-pan palette, but I had some trouble getting shades out of their original packaging and into the palette. I definitely gouged Beauty Junkie with my nail trying to pop it out from its case &gt;:( I think they just need to work a little more on the magnets so that it&#x27;s just a little easier to move the pans around.</p><h3 class=\"Text-ds Text-ds--title-6 Text-ds--left Text-ds--black\">1/2 the amount, new packaging</h3><p class=\"Text-ds Text-ds--body-1 Text-ds--left Text-ds--black\">Super upset that Ulta changed their packaging for their eyes how pallets. Old eye shadow was 2.4g of product. The new packaging is 1.62g of product. No clue how this is going to work. 1/2 the product for the same price.</p><div><h3 class=\"Text-ds Text-ds--title-6 Text-ds--left Text-ds--black\">Good color</h3><p class=\"Text-ds Text-ds--body-1 Text-ds--left Text-ds--black\">4</p><p class=\"Text-ds Text-ds--body-1 Text-ds--left Text-ds--black\">2024-07-30</p><p class=\"Text-ds Text-ds--body-1 Text-ds--left Text-ds--black\">Good color, good coverage</p></div><div><h3 class=\"Text-ds Text-ds--title-6 Text-ds--left Text-ds--black\">I&#x27;m glad I found this eye shadow.</h3><p class=\"Text-ds Text-ds--body-1 Text-ds--left Text-ds--black\">5</p><p class=\"Text-ds Text-ds--body-1 Text-ds--left Text-ds--black\">2024-07-28</p><p class=\"Text-ds Text-ds--body-1 Text-ds--left Text-ds--black\">I love this eye shadow. It&#x27;s not cakey and super dry. It glides on easy and lasts all day. This is my new &quot;go to&quot; for eye shadow.</p></div><div><h3 class=\"Text-ds Text-ds--title-6 Text-ds--left Text-ds--black\">I would buy this again</h3><p class=\"Text-ds Text-ds--body-1 Text-ds--left Text-ds--black\">5</p><p class=\"Text-ds Text-ds--body-1 Text-ds--left Text-ds--black\">2024-07-28</p><p class=\"Text-ds Text-ds--body-1 Text-ds--left Text-ds--black\">Easy to apply and doesnt cake up or cause creases. Very nice for my ols lady eyelids</p></div><div><h3 class=\"Text-ds Text-ds--title-6 Text-ds--left Text-ds--black\">Love the product - HATE the new packaging!</h3><p class=\"Text-ds Text-ds--body-1 Text-ds--left Text-ds--black\">4</p><p class=\"Text-ds Text-ds--body-1 Text-ds--left Text-ds--black\">2024-07-27</p><p class=\"Text-ds Text-ds--body-1 Text-ds--left Text-ds--black\">I&#x27;ve been using Ulta&#x27;s eyeshadows for years and have always loved them. What I loved most about this line of eyeshadow is that they are sold as singles and you aren&#x27;t forced to buy an entire palette of shades where you wind up using only one or two of the shades that come with the palette. Ulta&#x27;s old packaging allowed for the eyeshadow to pop out of its compact if you wanted to put it into a magnetic palette with other shades. Having all my favorite shades in one palette was so convenient and eliminated having multiple little eyeshadow compacts floating around my makeup drawer/bag. With the new packaging, the eyeshadow cannot be removed from the compact. I am very disappointed and will look for a different eyeshadow brand that sells single eyeshadows that have the feature to remove it from its compact.</p></div><div><h3 class=\"Text-ds Text-ds--title-6 Text-ds--left Text-ds--black\">Broke</h3><p class=\"Text-ds Text-ds--body-1 Text-ds--left Text-ds--black\">2</p><p class=\"Text-ds Text-ds--body-1 Text-ds--left Text-ds--black\">2024-07-19</p><p class=\"Text-ds Text-ds--body-1 Text-ds--left Text-ds--black\">It broke after about a day of having it</p></div></noscript><div id=\"productQA\" class=\"ProductReviews__QA--wrapper\"></div><div id=\"reviews\" class=\"ProductReviews__Reviews--wrapper\"><div id=\"reviewsImages\" class=\"ProductReviews__Reviews--containerImages\"><div class=\"p-w-r\"></div></div><div class=\"ProductReviews__Reviews--heading\"><h2 class=\"Text-ds Text-ds--title-6 Text-ds--left Text-ds--black\">Reviews</h2><a class=\"pal-c-Link pal-c-Link--buttonSecondary pal-c-Link--default\" href=\"https://www.ulta.com/p/write-a-review/pimprod2045216\" target=\"_self\" iconsize=\"default\">Write A REVIEW</a></div><div id=\"reviewsSnap\" class=\"ProductReviews__Reviews--containerSnap\"><div class=\"p-w-r\"><section id=\"pr-review-snapshot\" data-testid=\"review-snapshot\" class=\"pr-review-snapshot pr-snapshot-mobile\"><span tabindex=\"-1\" class=\"pr-accessible-focus-element\" id=\"review-snapshot-focus-target\" aria-hidden=\"true\"></span><header class=\"pr-review-snapshot-header pr-review-snapshot-content-block\"><div class=\"pr-review-snapshot-header-intro\"><h4 class=\"pr-headline pr-h1\">Review Snapshot</h4><p class=\"pr-subheadline\"><span>by </span><a href=\"http://www.powerreviews.com\" target=\"_blank\" rel=\"noopener noreferrer\">PowerReviews</a></p></div><section class=\"pr-review-snapshot-snippets\"><div class=\"pr-snippet-stars-reco-inline pr-snippet-minimal\"><div class=\"pr-snippet-stars-reco-stars\"><div class=\"pr-snippet\"><div class=\"pr-snippet-stars-container\"><div class=\"pr-snippet-stars pr-snippet-stars-png\" role=\"img\" aria-label=\"Rated 4.2 out of 5 stars\"><div aria-hidden=\"true\" class=\"pr-rating-stars\"><div class=\"pr-star-v4 pr-star-v4-100-filled\"></div><div class=\"pr-star-v4 pr-star-v4-100-filled\"></div><div class=\"pr-star-v4 pr-star-v4-100-filled\"></div><div class=\"pr-star-v4 pr-star-v4-100-filled\"></div><div class=\"pr-star-v4 pr-star-v4-25-filled\"></div></div><div aria-hidden=\"true\" class=\"pr-snippet-rating-decimal\">4.2</div></div></div><div class=\"pr-snippet-read-and-write\"><span class=\"pr-snippet-review-count\">2586 Reviews</span><a href=\"//www.ulta.com/ulta/review/?pr_page_id=pimprod2045216&amp;pr_source=web&amp;pr_merchant_id=6406&amp;pr_merchant_group_id=11984\" class=\"pr-snippet-write-review-link pr-underline\" rel=\"nofollow\">Write a Review</a></div></div></div><div class=\"pr-snippet-stars-reco-reco\"><div class=\"pr-snippet-reco-to-friend\"><div class=\"pr-snippet-reco-to-friend-percent pr-snippet-reco-to-friend-green\"><span aria-hidden=\"true\"><span class=\"pr-checkbox-icon\"><svg viewBox=\"0 0 176 176\" focusable=\"false\" aria-hidden=\"true\"><circle fill=\"#0A8900\" stroke=\"white\" stroke-width=\"8\" cx=\"88\" cy=\"88\" r=\"81.2\"></circle><path fill=\"white\" stroke=\"white\" stroke-width=\"5\" d=\"M77.2 121.3L43 87.2l5.5-5.6 28.7 28.6 50.3-50.3 5.5 5.6\"></path></svg></span></span><div class=\"pr-reco pr-reco-green\"><span class=\"pr-reco-value\">86% </span></div></div><span class=\"pr-reco-to-friend-message\">of respondents would recommend this to a friend</span></div></div><div style=\"clear: both;\"></div></div></section></header><div class=\"pr-review-snapshot-block-container\"><section class=\"pr-review-snapshot-block pr-review-snapshot-block-histogram\" aria-labelledby=\"pr-Vtt5GWHH-CGr3UzgUsiyg\"><div class=\"pr-review-snapshot-histogram\"><h5 id=\"pr-Vtt5GWHH-CGr3UzgUsiyg\" class=\"pr-review-snapshot-block-headline pr-h1\">Ratings Distribution</h5><ul class=\"pr-ratings-histogram pr-histogram-list\"><li class=\"pr-ratings-histogram-list-item\"><div role=\"button\" tabindex=\"0\" aria-label=\"1608 Reviews 5 Stars. Show only 5 star reviews\" class=\"pr-histogram-5Stars  pr-histogram-stars\" aria-disabled=\"false\"><p class=\"pr-histogram-label\" aria-hidden=\"true\">5 Stars</p><div data-tooltip=\"Show only 5 star reviews\" class=\"pr-ratings-histogram-bar-container\" aria-hidden=\"true\"><div class=\"pr-ratings-histogram-bar\"><div class=\"pr-ratings-histogram-barValue\" style=\"width: 62.181%;\"></div></div></div><p class=\"pr-histogram-count\" aria-hidden=\"true\">1608</p><div class=\"pr-histogram-cross\" aria-hidden=\"true\"></div></div></li><li class=\"pr-ratings-histogram-list-item\"><div role=\"button\" tabindex=\"0\" aria-label=\"459 Reviews 4 Stars. Show only 4 star reviews\" class=\"pr-histogram-4Stars  pr-histogram-stars\" aria-disabled=\"false\"><p class=\"pr-histogram-label\" aria-hidden=\"true\">4 Stars</p><div data-tooltip=\"Show only 4 star reviews\" class=\"pr-ratings-histogram-bar-container\" aria-hidden=\"true\"><div class=\"pr-ratings-histogram-bar\"><div class=\"pr-ratings-histogram-barValue\" style=\"width: 17.7494%;\"></div></div></div><p class=\"pr-histogram-count\" aria-hidden=\"true\">459</p><div class=\"pr-histogram-cross\" aria-hidden=\"true\"></div></div></li><li class=\"pr-ratings-histogram-list-item\"><div role=\"button\" tabindex=\"0\" aria-label=\"203 Reviews 3 Stars. Show only 3 star reviews\" class=\"pr-histogram-3Stars  pr-histogram-stars\" aria-disabled=\"false\"><p class=\"pr-histogram-label\" aria-hidden=\"true\">3 Stars</p><div data-tooltip=\"Show only 3 star reviews\" class=\"pr-ratings-histogram-bar-container\" aria-hidden=\"true\"><div class=\"pr-ratings-histogram-bar\"><div class=\"pr-ratings-histogram-barValue\" style=\"width: 7.84996%;\"></div></div></div><p class=\"pr-histogram-count\" aria-hidden=\"true\">203</p><div class=\"pr-histogram-cross\" aria-hidden=\"true\"></div></div></li><li class=\"pr-ratings-histogram-list-item\"><div role=\"button\" tabindex=\"0\" aria-label=\"112 Reviews 2 Stars. Show only 2 star reviews\" class=\"pr-histogram-2Stars  pr-histogram-stars\" aria-disabled=\"false\"><p class=\"pr-histogram-label\" aria-hidden=\"true\">2 Stars</p><div data-tooltip=\"Show only 2 star reviews\" class=\"pr-ratings-histogram-bar-container\" aria-hidden=\"true\"><div class=\"pr-ratings-histogram-bar\"><div class=\"pr-ratings-histogram-barValue\" style=\"width: 4.33101%;\"></div></div></div><p class=\"pr-histogram-count\" aria-hidden=\"true\">112</p><div class=\"pr-histogram-cross\" aria-hidden=\"true\"></div></div></li><li class=\"pr-ratings-histogram-list-item\"><div role=\"button\" tabindex=\"0\" aria-label=\"204 Reviews 1 Star. Show only 1 star reviews\" class=\"pr-histogram-1Stars  pr-histogram-stars\" aria-disabled=\"false\"><p class=\"pr-histogram-label\" aria-hidden=\"true\">1 Star</p><div data-tooltip=\"Show only 1 star reviews\" class=\"pr-ratings-histogram-bar-container\" aria-hidden=\"true\"><div class=\"pr-ratings-histogram-bar\"><div class=\"pr-ratings-histogram-barValue\" style=\"width: 7.88863%;\"></div></div></div><p class=\"pr-histogram-count\" aria-hidden=\"true\">204</p><div class=\"pr-histogram-cross\" aria-hidden=\"true\"></div></div></li></ul></div></section><section aria-labelledby=\"pr-AJRgy1j4djUsk0OuBrwp5\" class=\"pr-review-snapshot-block pr-review-snapshot-block-pros\"><dl class=\"pr-review-snapshot-tags\"><dt><h5 id=\"pr-AJRgy1j4djUsk0OuBrwp5\" class=\"pr-review-snapshot-block-headline pr-h1\">Pros</h5></dt><dd class=\"pr-snapshot-tag-def\"><span class=\"pr-snapshot-highlight\">825</span><span>Applies Smoothly</span></dd><dd class=\"pr-snapshot-tag-def\"><span class=\"pr-snapshot-highlight\">760</span><span>Great Color</span></dd><dd class=\"pr-snapshot-tag-def\"><span class=\"pr-snapshot-highlight\">677</span><span>Blends Easily</span></dd><dd class=\"pr-snapshot-tag-def\"><span class=\"pr-snapshot-highlight\">586</span><span>Long Lasting</span></dd><dd class=\"pr-snapshot-tag-def\"><span class=\"pr-snapshot-highlight\">512</span><span>Silky Texture</span></dd></dl></section><section aria-labelledby=\"pr-827xsnqW5YoeQ38yGClU0\" class=\"pr-review-snapshot-block pr-review-snapshot-block-cons\"><dl class=\"pr-review-snapshot-tags\"><dt><h5 id=\"pr-827xsnqW5YoeQ38yGClU0\" class=\"pr-review-snapshot-block-headline pr-h1\">Cons</h5></dt><dd class=\"pr-snapshot-tag-def\"><span class=\"pr-snapshot-highlight\">87</span><span>Wears Off Easily</span></dd><dd class=\"pr-snapshot-tag-def\"><span class=\"pr-snapshot-highlight\">68</span><span>Cheap Compact Case</span></dd><dd class=\"pr-snapshot-tag-def\"><span class=\"pr-snapshot-highlight\">43</span><span>Doesn't Blend Well</span></dd><dd class=\"pr-snapshot-tag-def\"><span class=\"pr-snapshot-highlight\">42</span><span>Smudges or Flakes</span></dd><dd class=\"pr-snapshot-tag-def\"><span class=\"pr-snapshot-highlight\">41</span><span>Creases</span></dd></dl></section></div><section class=\"pr-review-snapshot-msq-container pr-review-snapshot-msqs\"><dl class=\"pr-msq-list pr-review-snapshot-msq pr-review-snapshot-msq-bestuses\"><dt><h5 class=\"pr-h3\">Best Uses</h5></dt><dd><span class=\"pr-snapshot-highlight\">797</span>Everyday</dd><dd><span class=\"pr-snapshot-highlight\">377</span>Going Out</dd><dd><span class=\"pr-snapshot-highlight\">376</span>Work</dd><dd><span class=\"pr-snapshot-highlight\">337</span>Natural Effect</dd><dd><span class=\"pr-snapshot-highlight\">173</span>Smokey Effect</dd></dl><dl class=\"pr-msq-list pr-review-snapshot-msq pr-review-snapshot-msq-describeyourself\"><dt><h5 class=\"pr-h3\">Describe Yourself</h5></dt><dd><span class=\"pr-snapshot-highlight\">463</span>Natural Style</dd><dd><span class=\"pr-snapshot-highlight\">394</span>Classic Style</dd><dd><span class=\"pr-snapshot-highlight\">101</span>Trendy Style</dd><dd><span class=\"pr-snapshot-highlight\">3</span>Female</dd><dd><span class=\"pr-snapshot-highlight\">2</span>Mom</dd></dl></section><section class=\"pr-review-snapshot-faceoff\"><section class=\"pr-faceoff-positive\"><h5 class=\"pr-faceoff-label pr-h1\">Most Helpful Positive Review</h5><div><div class=\"pr-snippet-stars pr-snippet-stars-png\" role=\"img\" aria-label=\"Rated 4 out of 5 stars\"><div aria-hidden=\"true\" class=\"pr-rating-stars\"><div class=\"pr-star-v4 pr-star-v4-100-filled\"></div><div class=\"pr-star-v4 pr-star-v4-100-filled\"></div><div class=\"pr-star-v4 pr-star-v4-100-filled\"></div><div class=\"pr-star-v4 pr-star-v4-100-filled\"></div><div class=\"pr-star-v4 pr-star-v4-0-filled\"></div></div><div aria-hidden=\"true\" class=\"pr-snippet-rating-decimal\">4</div></div></div><h6 id=\"pr-MZydIkTTgbvrJ4kGkYEij\" class=\"pr-faceoff-title pr-h2\">Beautiful colors that take some time to work with</h6><p class=\"pr-faceoff-review\">I got five colors to fill up a 4-pan palette and have a spare online: Roaring 20's, Valentine, Beauty Junkie, Peek-a-boo, and Risk Taker. I ended up keeping Valentine, Beauty Junkie, Risk taker, and swapped the other two out for Fearless. I also played around with a few of the colors in the store: W...<span id=\"pr-KpRwlosc3VN1Sbem5W9GZ\" style=\"display: none;\">atercolor (soooooo beautiful!), Petite, Modern Times, Plum Pop, and probably a few more.\n",
        "There's three finishes: matte, shimmer, and micro glitter. I'm not a big matte girl, but the mattes I tried were beautiful, although I can't say how easy they are to blend. The shimmers I think are a little easier to blend than the micro glitters, but Peek-a-boo was too light for me (and I have very fair skin!); it barely showed up even with primer. It would probably be a great highlight color on a darker skin tone, though.\n",
        "The micro glitters are a little hard to work with, but they are so so so beautiful. There is fallout, and blending them takes some work. But eye shadow isn't worth my time if it isn't glittery, and they are so shiny and beautiful on my eyes. The colors I have work together nicely to make an eye look I love, although I'm also using other colors for transition colors and base.\n",
        "One of my biggest problems is the packaging, though. As I said, I got the 4-pan palette, but I had some trouble getting shades out of their original packaging and into the palette. I definitely gouged Beauty Junkie with my nail trying to pop it out from its case &gt;:( I think they just need to work a little more on the magnets so that it's just a little easier to move the pans around.</span></p><button type=\"button\" class=\"pr-faceoff-readcomplete\" aria-controls=\"pr-KpRwlosc3VN1Sbem5W9GZ\" aria-expanded=\"false\" aria-describedby=\"pr-MZydIkTTgbvrJ4kGkYEij\">Read complete review<span class=\"pr-caret-icon\"><svg viewBox=\"-9 -10 52 52\" focusable=\"false\" aria-hidden=\"true\"><g><polyline class=\"pr-caret-icon__line\" fill=\"none\" stroke=\"#333\" stroke-width=\"4\" points=\"23.7,31.5 8.3,16 23.7,0.5 \"></polyline></g></svg></span></button></section><div class=\"pr-faceoff-img\"><span class=\"pr-accessible-text\">Versus</span><span class=\"pr-faceoff-img-txt\" aria-hidden=\"true\">VS</span></div><section class=\"pr-faceoff-negative\"><h5 class=\"pr-faceoff-label pr-h1\">Most Helpful Critical Review</h5><div><div class=\"pr-snippet-stars pr-snippet-stars-png\" role=\"img\" aria-label=\"Rated 1 out of 5 stars\"><div aria-hidden=\"true\" class=\"pr-rating-stars\"><div class=\"pr-star-v4 pr-star-v4-100-filled\"></div><div class=\"pr-star-v4 pr-star-v4-0-filled\"></div><div class=\"pr-star-v4 pr-star-v4-0-filled\"></div><div class=\"pr-star-v4 pr-star-v4-0-filled\"></div><div class=\"pr-star-v4 pr-star-v4-0-filled\"></div></div><div aria-hidden=\"true\" class=\"pr-snippet-rating-decimal\">1</div></div></div><h6 id=\"pr-kDmt9VDqGwYUlnMVgMy3G\" class=\"pr-faceoff-title pr-h2\">1/2 the amount, new packaging</h6><p class=\"pr-faceoff-review\">Super upset that Ulta changed their packaging for their eyes how pallets. Old eye shadow was 2.4g of product. The new packaging is 1.62g of product. No clue how this is going to work. 1/2 the product for the same price.</p></section></section></section></div></div><div id=\"reviewsList\" class=\"ProductReviews__Reviews--containerList\"><div class=\"p-w-r\"><section id=\"pr-review-display\" data-testid=\"review-list\" class=\"pr-review-display\"><header id=\"pr-rd-main-header\" class=\"pr-rd-main-header\"><h4 class=\"pr-rd-review-total pr-h1\">2586 results</h4><div class=\"pr-rd-right\"><div class=\"pr-rd-sort-group\"><select id=\"pr-rd-sort-by\" class=\"pr-rd-sort\" aria-label=\"Sort reviews by:\"><optgroup label=\"Sort reviews by:\"><option value=\"newest\">Most Recent</option><option value=\"mosthelpful\">Most Helpful</option><option value=\"lowestrating\">Lowest Rated</option><option value=\"highestrating\">Highest Rated</option><option value=\"oldest\">Oldest</option><option value=\"mediasort\">Images</option></optgroup></select></div><div class=\"pr-rd-sort-group\"><select id=\"pr-rd-native-sort\" class=\"pr-rd-sort\" aria-label=\"Filter Reviews By Source\"><optgroup label=\"Filter Reviews By Source\"><option value=\"true\">Reviewed at Ulta.com</option><option value=\"false\">All reviews</option></optgroup></select></div></div></header><div class=\"pr-review\" role=\"group\" aria-label=\"review\"><header class=\"pr-rd-header pr-rd-content-block\"><div class=\"pr-rd-star-rating\"><div><div class=\"pr-snippet-stars pr-snippet-stars-png\" role=\"img\" aria-label=\"Rated 4 out of 5 stars\"><div aria-hidden=\"true\" class=\"pr-rating-stars\"><div class=\"pr-star-v4 pr-star-v4-100-filled\"></div><div class=\"pr-star-v4 pr-star-v4-100-filled\"></div><div class=\"pr-star-v4 pr-star-v4-100-filled\"></div><div class=\"pr-star-v4 pr-star-v4-100-filled\"></div><div class=\"pr-star-v4 pr-star-v4-0-filled\"></div></div><div aria-hidden=\"true\" class=\"pr-snippet-rating-decimal\">4</div></div></div></div><h5 tabindex=\"-1\" data-testid=\"headline-525880320\" id=\"pr-rd-review-headline-525880320\" lang=\"en\" class=\"pr-rd-review-headline pr-h2\">Good color</h5></header><section class=\"pr-rd-description pr-rd-content-block\"><div class=\"pr-rd-side-content-block pr-rd-right\"><div class=\"pr-rd-reviewer-details pr-rd-inner-side-content-block\"><p class=\"pr-rd-details pr-rd-author-submission-date\"><span class=\"pr-rd-bold\">Submitted </span><span data-datetime=\"2024-07-30T16:07:21.177Z\"> 8 days ago</span></p><p class=\"pr-rd-details pr-rd-author-nickname\"><span><span class=\"pr-rd-bold\">By&nbsp;</span><span>Joy</span></span></p><p class=\"pr-rd-details pr-rd-author-location\"><span><span class=\"pr-rd-bold\">From&nbsp;</span><span>Nevada</span></span></p></div></div><p class=\"pr-rd-description-text\" lang=\"en\">Good color, good coverage</p></section><section class=\"pr-rd-images pr-rd-content-block\"></section><footer class=\"pr-rd-footer pr-rd-content-block\"><p class=\"pr-rd-bottomline pr-rd-inner-content-block\"><span class=\"pr-rd-bold\">Bottom Line</span><span> Yes, I would recommend to a friend</span></p><div class=\"pr-rd-helpful-action\"><div class=\"pr-rd-helpful-action-group\"><div class=\"pr-rd-helpful-action-legend\"><h6 id=\"pr-al9wIl-P-R7esB2vpu7h1\" class=\"pr-rd-helpful-text pr-rd-bold\">Was this review helpful to you?</h6></div><div class=\"pr-helpful-voting pr-rd-helpful-action-btn-group\" role=\"group\" aria-labelledby=\"pr-al9wIl-P-R7esB2vpu7h1\"><button type=\"button\" aria-label=\"0 helpful votes, give this review a helpful vote\" aria-pressed=\"false\" aria-describedby=\"pr-rd-review-headline-525880320\" class=\"pr-helpful-btn pr-helpful-yes\"><span class=\"pr-thumbs-icon pr-thumbs-icon-up\"><svg version=\"1.1\" x=\"0px\" y=\"0px\" viewBox=\"0 0 216 146\" xml:space=\"preserve\" focusable=\"false\" aria-hidden=\"true\"><g><path class=\"pr-thumbs-fill\" fill=\"#707070\" d=\"M168.7,79.9c3-3.4,4.5-7.5,4.5-12.1c0-4.2-1.6-7.9-4.6-11c-3.1-3.1-6.8-4.6-11-4.6H135 c0.2-0.8,0.4-1.4,0.7-2s0.5-1.1,0.9-1.8s0.7-1.1,0.8-1.5c1-1.8,1.7-3.4,2.2-4.6c0.5-1.2,1-2.8,1.5-4.9c0.5-2.1,0.8-4.1,0.8-6.2 c0-1.3,0-2.4,0-3.2c0-0.8-0.2-2-0.4-3.7c-0.2-1.6-0.6-3-1-4.1c-0.4-1.1-1.1-2.3-2-3.7c-0.9-1.4-2-2.5-3.3-3.3s-2.9-1.5-4.9-2.1 c-2-0.6-4.2-0.9-6.7-0.9c-1.4,0-2.6,0.5-3.7,1.5c-1.1,1.1-2,2.4-2.8,4.1c-0.8,1.6-1.3,3-1.6,4.2c-0.3,1.2-0.6,2.9-1,5 c-0.5,2.3-0.9,3.9-1.1,4.9c-0.2,1-0.7,2.3-1.4,4c-0.7,1.6-1.5,2.9-2.5,3.9c-1.8,1.8-4.5,5.1-8.2,9.8c-2.7,3.5-5.4,6.8-8.2,9.9 c-2.8,3.1-4.9,4.7-6.2,4.8c-1.4,0.1-2.5,0.7-3.5,1.7s-1.5,2.2-1.5,3.5v52.2c0,1.4,0.5,2.6,1.5,3.6s2.3,1.5,3.7,1.6 c1.9,0.1,6.2,1.2,12.9,3.6c4.2,1.4,7.5,2.5,9.8,3.2c2.4,0.7,5.7,1.5,9.9,2.4c4.2,0.8,8.1,1.3,11.7,1.3h1.4h6.2h2.9 c7.2-0.1,12.6-2.2,16.1-6.4c3.1-3.7,4.5-8.7,4-14.7c2.1-2,3.6-4.6,4.4-7.7c0.9-3.3,0.9-6.5,0-9.5c2.5-3.3,3.7-7,3.5-11.2 C169.9,84.4,169.5,82.3,168.7,79.9z\"></path><path class=\"pr-thumbs-cuff-fill\" fill=\"#707070\" d=\"M71.5,62.6H48c-1.4,0-2.6,0.5-3.7,1.5s-1.5,2.3-1.5,3.7v52.1c0,1.4,0.5,2.6,1.5,3.7c1,1,2.3,1.5,3.7,1.5 h23.5c1.4,0,2.6-0.5,3.7-1.5c1-1,1.5-2.3,1.5-3.7V67.8c0-1.4-0.5-2.6-1.5-3.7C74.1,63.1,72.9,62.6,71.5,62.6z M62.1,113.2 c-1,1-2.3,1.5-3.7,1.5c-1.5,0-2.7-0.5-3.7-1.5c-1-1-1.5-2.2-1.5-3.7c0-1.4,0.5-2.6,1.5-3.7c1-1,2.2-1.5,3.7-1.5 c1.4,0,2.6,0.5,3.7,1.5c1,1,1.5,2.3,1.5,3.7C63.7,111,63.2,112.2,62.1,113.2z\"></path></g></svg></span><span class=\"pr-helpful-count\">0</span></button><button type=\"button\" aria-label=\"0 unhelpful votes, give this review an unhelpful vote\" aria-pressed=\"false\" aria-describedby=\"pr-rd-review-headline-525880320\" class=\"pr-helpful-btn pr-helpful-no\"><span class=\"pr-thumbs-icon pr-thumbs-icon-down\"><svg version=\"1.1\" x=\"0px\" y=\"0px\" viewBox=\"0 0 216 146\" xml:space=\"preserve\" focusable=\"false\" aria-hidden=\"true\"><g><path class=\"pr-thumbs-fill\" fill=\"#707070\" d=\"M168.7,79.9c3-3.4,4.5-7.5,4.5-12.1c0-4.2-1.6-7.9-4.6-11c-3.1-3.1-6.8-4.6-11-4.6H135 c0.2-0.8,0.4-1.4,0.7-2s0.5-1.1,0.9-1.8s0.7-1.1,0.8-1.5c1-1.8,1.7-3.4,2.2-4.6c0.5-1.2,1-2.8,1.5-4.9c0.5-2.1,0.8-4.1,0.8-6.2 c0-1.3,0-2.4,0-3.2c0-0.8-0.2-2-0.4-3.7c-0.2-1.6-0.6-3-1-4.1c-0.4-1.1-1.1-2.3-2-3.7c-0.9-1.4-2-2.5-3.3-3.3s-2.9-1.5-4.9-2.1 c-2-0.6-4.2-0.9-6.7-0.9c-1.4,0-2.6,0.5-3.7,1.5c-1.1,1.1-2,2.4-2.8,4.1c-0.8,1.6-1.3,3-1.6,4.2c-0.3,1.2-0.6,2.9-1,5 c-0.5,2.3-0.9,3.9-1.1,4.9c-0.2,1-0.7,2.3-1.4,4c-0.7,1.6-1.5,2.9-2.5,3.9c-1.8,1.8-4.5,5.1-8.2,9.8c-2.7,3.5-5.4,6.8-8.2,9.9 c-2.8,3.1-4.9,4.7-6.2,4.8c-1.4,0.1-2.5,0.7-3.5,1.7s-1.5,2.2-1.5,3.5v52.2c0,1.4,0.5,2.6,1.5,3.6s2.3,1.5,3.7,1.6 c1.9,0.1,6.2,1.2,12.9,3.6c4.2,1.4,7.5,2.5,9.8,3.2c2.4,0.7,5.7,1.5,9.9,2.4c4.2,0.8,8.1,1.3,11.7,1.3h1.4h6.2h2.9 c7.2-0.1,12.6-2.2,16.1-6.4c3.1-3.7,4.5-8.7,4-14.7c2.1-2,3.6-4.6,4.4-7.7c0.9-3.3,0.9-6.5,0-9.5c2.5-3.3,3.7-7,3.5-11.2 C169.9,84.4,169.5,82.3,168.7,79.9z\"></path><path class=\"pr-thumbs-cuff-fill\" fill=\"#707070\" d=\"M71.5,62.6H48c-1.4,0-2.6,0.5-3.7,1.5s-1.5,2.3-1.5,3.7v52.1c0,1.4,0.5,2.6,1.5,3.7c1,1,2.3,1.5,3.7,1.5 h23.5c1.4,0,2.6-0.5,3.7-1.5c1-1,1.5-2.3,1.5-3.7V67.8c0-1.4-0.5-2.6-1.5-3.7C74.1,63.1,72.9,62.6,71.5,62.6z M62.1,113.2 c-1,1-2.3,1.5-3.7,1.5c-1.5,0-2.7-0.5-3.7-1.5c-1-1-1.5-2.2-1.5-3.7c0-1.4,0.5-2.6,1.5-3.7c1-1,2.2-1.5,3.7-1.5 c1.4,0,2.6,0.5,3.7,1.5c1,1,1.5,2.3,1.5,3.7C63.7,111,63.2,112.2,62.1,113.2z\"></path></g></svg></span><span class=\"pr-helpful-count\">0</span></button></div><div class=\"pr-rd-flag-review-container\"><button aria-describedby=\"pr-rd-review-headline-525880320\" class=\"pr-rd-flag-review-btn\">Flag this review</button></div></div></div></footer></div><div class=\"pr-review\" role=\"group\" aria-label=\"review\"><header class=\"pr-rd-header pr-rd-content-block\"><div class=\"pr-rd-star-rating\"><div><div class=\"pr-snippet-stars pr-snippet-stars-png\" role=\"img\" aria-label=\"Rated 5 out of 5 stars\"><div aria-hidden=\"true\" class=\"pr-rating-stars\"><div class=\"pr-star-v4 pr-star-v4-100-filled\"></div><div class=\"pr-star-v4 pr-star-v4-100-filled\"></div><div class=\"pr-star-v4 pr-star-v4-100-filled\"></div><div class=\"pr-star-v4 pr-star-v4-100-filled\"></div><div class=\"pr-star-v4 pr-star-v4-100-filled\"></div></div><div aria-hidden=\"true\" class=\"pr-snippet-rating-decimal\">5</div></div></div></div><h5 tabindex=\"-1\" data-testid=\"headline-525761904\" id=\"pr-rd-review-headline-525761904\" lang=\"en\" class=\"pr-rd-review-headline pr-h2\">I'm glad I found this eye shadow.</h5></header><section class=\"pr-rd-description pr-rd-content-block\"><div class=\"pr-rd-side-content-block pr-rd-right\"><div class=\"pr-rd-reviewer-details pr-rd-inner-side-content-block\"><p class=\"pr-rd-details pr-rd-author-submission-date\"><span class=\"pr-rd-bold\">Submitted </span><span data-datetime=\"2024-07-28T19:07:10.174Z\"> 10 days ago</span></p><p class=\"pr-rd-details pr-rd-author-nickname\"><span><span class=\"pr-rd-bold\">By&nbsp;</span><span>Vicki</span></span></p><p class=\"pr-rd-details pr-rd-author-location\"><span><span class=\"pr-rd-bold\">From&nbsp;</span><span>San Diego</span></span></p></div></div><p class=\"pr-rd-description-text\" lang=\"en\">I love this eye shadow. It's not cakey and super dry. It glides on easy and lasts all day. This is my new \"go to\" for eye shadow.</p></section><section class=\"pr-rd-images pr-rd-content-block\"></section><footer class=\"pr-rd-footer pr-rd-content-block\"><p class=\"pr-rd-bottomline pr-rd-inner-content-block\"><span class=\"pr-rd-bold\">Bottom Line</span><span> Yes, I would recommend to a friend</span></p><div class=\"pr-rd-helpful-action\"><div class=\"pr-rd-helpful-action-group\"><div class=\"pr-rd-helpful-action-legend\"><h6 id=\"pr-bBf8zvQ31eGHcgZHMPHOB\" class=\"pr-rd-helpful-text pr-rd-bold\">Was this review helpful to you?</h6></div><div class=\"pr-helpful-voting pr-rd-helpful-action-btn-group\" role=\"group\" aria-labelledby=\"pr-bBf8zvQ31eGHcgZHMPHOB\"><button type=\"button\" aria-label=\"0 helpful votes, give this review a helpful vote\" aria-pressed=\"false\" aria-describedby=\"pr-rd-review-headline-525761904\" class=\"pr-helpful-btn pr-helpful-yes\"><span class=\"pr-thumbs-icon pr-thumbs-icon-up\"><svg version=\"1.1\" x=\"0px\" y=\"0px\" viewBox=\"0 0 216 146\" xml:space=\"preserve\" focusable=\"false\" aria-hidden=\"true\"><g><path class=\"pr-thumbs-fill\" fill=\"#707070\" d=\"M168.7,79.9c3-3.4,4.5-7.5,4.5-12.1c0-4.2-1.6-7.9-4.6-11c-3.1-3.1-6.8-4.6-11-4.6H135 c0.2-0.8,0.4-1.4,0.7-2s0.5-1.1,0.9-1.8s0.7-1.1,0.8-1.5c1-1.8,1.7-3.4,2.2-4.6c0.5-1.2,1-2.8,1.5-4.9c0.5-2.1,0.8-4.1,0.8-6.2 c0-1.3,0-2.4,0-3.2c0-0.8-0.2-2-0.4-3.7c-0.2-1.6-0.6-3-1-4.1c-0.4-1.1-1.1-2.3-2-3.7c-0.9-1.4-2-2.5-3.3-3.3s-2.9-1.5-4.9-2.1 c-2-0.6-4.2-0.9-6.7-0.9c-1.4,0-2.6,0.5-3.7,1.5c-1.1,1.1-2,2.4-2.8,4.1c-0.8,1.6-1.3,3-1.6,4.2c-0.3,1.2-0.6,2.9-1,5 c-0.5,2.3-0.9,3.9-1.1,4.9c-0.2,1-0.7,2.3-1.4,4c-0.7,1.6-1.5,2.9-2.5,3.9c-1.8,1.8-4.5,5.1-8.2,9.8c-2.7,3.5-5.4,6.8-8.2,9.9 c-2.8,3.1-4.9,4.7-6.2,4.8c-1.4,0.1-2.5,0.7-3.5,1.7s-1.5,2.2-1.5,3.5v52.2c0,1.4,0.5,2.6,1.5,3.6s2.3,1.5,3.7,1.6 c1.9,0.1,6.2,1.2,12.9,3.6c4.2,1.4,7.5,2.5,9.8,3.2c2.4,0.7,5.7,1.5,9.9,2.4c4.2,0.8,8.1,1.3,11.7,1.3h1.4h6.2h2.9 c7.2-0.1,12.6-2.2,16.1-6.4c3.1-3.7,4.5-8.7,4-14.7c2.1-2,3.6-4.6,4.4-7.7c0.9-3.3,0.9-6.5,0-9.5c2.5-3.3,3.7-7,3.5-11.2 C169.9,84.4,169.5,82.3,168.7,79.9z\"></path><path class=\"pr-thumbs-cuff-fill\" fill=\"#707070\" d=\"M71.5,62.6H48c-1.4,0-2.6,0.5-3.7,1.5s-1.5,2.3-1.5,3.7v52.1c0,1.4,0.5,2.6,1.5,3.7c1,1,2.3,1.5,3.7,1.5 h23.5c1.4,0,2.6-0.5,3.7-1.5c1-1,1.5-2.3,1.5-3.7V67.8c0-1.4-0.5-2.6-1.5-3.7C74.1,63.1,72.9,62.6,71.5,62.6z M62.1,113.2 c-1,1-2.3,1.5-3.7,1.5c-1.5,0-2.7-0.5-3.7-1.5c-1-1-1.5-2.2-1.5-3.7c0-1.4,0.5-2.6,1.5-3.7c1-1,2.2-1.5,3.7-1.5 c1.4,0,2.6,0.5,3.7,1.5c1,1,1.5,2.3,1.5,3.7C63.7,111,63.2,112.2,62.1,113.2z\"></path></g></svg></span><span class=\"pr-helpful-count\">0</span></button><button type=\"button\" aria-label=\"0 unhelpful votes, give this review an unhelpful vote\" aria-pressed=\"false\" aria-describedby=\"pr-rd-review-headline-525761904\" class=\"pr-helpful-btn pr-helpful-no\"><span class=\"pr-thumbs-icon pr-thumbs-icon-down\"><svg version=\"1.1\" x=\"0px\" y=\"0px\" viewBox=\"0 0 216 146\" xml:space=\"preserve\" focusable=\"false\" aria-hidden=\"true\"><g><path class=\"pr-thumbs-fill\" fill=\"#707070\" d=\"M168.7,79.9c3-3.4,4.5-7.5,4.5-12.1c0-4.2-1.6-7.9-4.6-11c-3.1-3.1-6.8-4.6-11-4.6H135 c0.2-0.8,0.4-1.4,0.7-2s0.5-1.1,0.9-1.8s0.7-1.1,0.8-1.5c1-1.8,1.7-3.4,2.2-4.6c0.5-1.2,1-2.8,1.5-4.9c0.5-2.1,0.8-4.1,0.8-6.2 c0-1.3,0-2.4,0-3.2c0-0.8-0.2-2-0.4-3.7c-0.2-1.6-0.6-3-1-4.1c-0.4-1.1-1.1-2.3-2-3.7c-0.9-1.4-2-2.5-3.3-3.3s-2.9-1.5-4.9-2.1 c-2-0.6-4.2-0.9-6.7-0.9c-1.4,0-2.6,0.5-3.7,1.5c-1.1,1.1-2,2.4-2.8,4.1c-0.8,1.6-1.3,3-1.6,4.2c-0.3,1.2-0.6,2.9-1,5 c-0.5,2.3-0.9,3.9-1.1,4.9c-0.2,1-0.7,2.3-1.4,4c-0.7,1.6-1.5,2.9-2.5,3.9c-1.8,1.8-4.5,5.1-8.2,9.8c-2.7,3.5-5.4,6.8-8.2,9.9 c-2.8,3.1-4.9,4.7-6.2,4.8c-1.4,0.1-2.5,0.7-3.5,1.7s-1.5,2.2-1.5,3.5v52.2c0,1.4,0.5,2.6,1.5,3.6s2.3,1.5,3.7,1.6 c1.9,0.1,6.2,1.2,12.9,3.6c4.2,1.4,7.5,2.5,9.8,3.2c2.4,0.7,5.7,1.5,9.9,2.4c4.2,0.8,8.1,1.3,11.7,1.3h1.4h6.2h2.9 c7.2-0.1,12.6-2.2,16.1-6.4c3.1-3.7,4.5-8.7,4-14.7c2.1-2,3.6-4.6,4.4-7.7c0.9-3.3,0.9-6.5,0-9.5c2.5-3.3,3.7-7,3.5-11.2 C169.9,84.4,169.5,82.3,168.7,79.9z\"></path><path class=\"pr-thumbs-cuff-fill\" fill=\"#707070\" d=\"M71.5,62.6H48c-1.4,0-2.6,0.5-3.7,1.5s-1.5,2.3-1.5,3.7v52.1c0,1.4,0.5,2.6,1.5,3.7c1,1,2.3,1.5,3.7,1.5 h23.5c1.4,0,2.6-0.5,3.7-1.5c1-1,1.5-2.3,1.5-3.7V67.8c0-1.4-0.5-2.6-1.5-3.7C74.1,63.1,72.9,62.6,71.5,62.6z M62.1,113.2 c-1,1-2.3,1.5-3.7,1.5c-1.5,0-2.7-0.5-3.7-1.5c-1-1-1.5-2.2-1.5-3.7c0-1.4,0.5-2.6,1.5-3.7c1-1,2.2-1.5,3.7-1.5 c1.4,0,2.6,0.5,3.7,1.5c1,1,1.5,2.3,1.5,3.7C63.7,111,63.2,112.2,62.1,113.2z\"></path></g></svg></span><span class=\"pr-helpful-count\">0</span></button></div><div class=\"pr-rd-flag-review-container\"><button aria-describedby=\"pr-rd-review-headline-525761904\" class=\"pr-rd-flag-review-btn\">Flag this review</button></div></div></div></footer></div><div class=\"pr-review\" role=\"group\" aria-label=\"review\"><header class=\"pr-rd-header pr-rd-content-block\"><div class=\"pr-rd-star-rating\"><div><div class=\"pr-snippet-stars pr-snippet-stars-png\" role=\"img\" aria-label=\"Rated 5 out of 5 stars\"><div aria-hidden=\"true\" class=\"pr-rating-stars\"><div class=\"pr-star-v4 pr-star-v4-100-filled\"></div><div class=\"pr-star-v4 pr-star-v4-100-filled\"></div><div class=\"pr-star-v4 pr-star-v4-100-filled\"></div><div class=\"pr-star-v4 pr-star-v4-100-filled\"></div><div class=\"pr-star-v4 pr-star-v4-100-filled\"></div></div><div aria-hidden=\"true\" class=\"pr-snippet-rating-decimal\">5</div></div></div></div><h5 tabindex=\"-1\" data-testid=\"headline-525755954\" id=\"pr-rd-review-headline-525755954\" lang=\"en\" class=\"pr-rd-review-headline pr-h2\">I would buy this again</h5></header><section class=\"pr-rd-description pr-rd-content-block\"><div class=\"pr-rd-side-content-block pr-rd-right\"><div class=\"pr-rd-reviewer-details pr-rd-inner-side-content-block\"><p class=\"pr-rd-details pr-rd-author-submission-date\"><span class=\"pr-rd-bold\">Submitted </span><span data-datetime=\"2024-07-28T16:51:58.322Z\"> 10 days ago</span></p><p class=\"pr-rd-details pr-rd-author-nickname\"><span><span class=\"pr-rd-bold\">By&nbsp;</span><span>Dianne</span></span></p><p class=\"pr-rd-details pr-rd-author-location\"><span><span class=\"pr-rd-bold\">From&nbsp;</span><span>Kalamazzo mi</span></span></p></div></div><p class=\"pr-rd-description-text\" lang=\"en\">Easy to apply and doesnt cake up or cause creases. Very nice for my ols lady eyelids</p></section><section class=\"pr-rd-images pr-rd-content-block\"></section><footer class=\"pr-rd-footer pr-rd-content-block\"><p class=\"pr-rd-bottomline pr-rd-inner-content-block\"><span class=\"pr-rd-bold\">Bottom Line</span><span> Yes, I would recommend to a friend</span></p><div class=\"pr-rd-helpful-action\"><div class=\"pr-rd-helpful-action-group\"><div class=\"pr-rd-helpful-action-legend\"><h6 id=\"pr-wJlHAgmw1C3ZUWkNfMcXH\" class=\"pr-rd-helpful-text pr-rd-bold\">Was this review helpful to you?</h6></div><div class=\"pr-helpful-voting pr-rd-helpful-action-btn-group\" role=\"group\" aria-labelledby=\"pr-wJlHAgmw1C3ZUWkNfMcXH\"><button type=\"button\" aria-label=\"0 helpful votes, give this review a helpful vote\" aria-pressed=\"false\" aria-describedby=\"pr-rd-review-headline-525755954\" class=\"pr-helpful-btn pr-helpful-yes\"><span class=\"pr-thumbs-icon pr-thumbs-icon-up\"><svg version=\"1.1\" x=\"0px\" y=\"0px\" viewBox=\"0 0 216 146\" xml:space=\"preserve\" focusable=\"false\" aria-hidden=\"true\"><g><path class=\"pr-thumbs-fill\" fill=\"#707070\" d=\"M168.7,79.9c3-3.4,4.5-7.5,4.5-12.1c0-4.2-1.6-7.9-4.6-11c-3.1-3.1-6.8-4.6-11-4.6H135 c0.2-0.8,0.4-1.4,0.7-2s0.5-1.1,0.9-1.8s0.7-1.1,0.8-1.5c1-1.8,1.7-3.4,2.2-4.6c0.5-1.2,1-2.8,1.5-4.9c0.5-2.1,0.8-4.1,0.8-6.2 c0-1.3,0-2.4,0-3.2c0-0.8-0.2-2-0.4-3.7c-0.2-1.6-0.6-3-1-4.1c-0.4-1.1-1.1-2.3-2-3.7c-0.9-1.4-2-2.5-3.3-3.3s-2.9-1.5-4.9-2.1 c-2-0.6-4.2-0.9-6.7-0.9c-1.4,0-2.6,0.5-3.7,1.5c-1.1,1.1-2,2.4-2.8,4.1c-0.8,1.6-1.3,3-1.6,4.2c-0.3,1.2-0.6,2.9-1,5 c-0.5,2.3-0.9,3.9-1.1,4.9c-0.2,1-0.7,2.3-1.4,4c-0.7,1.6-1.5,2.9-2.5,3.9c-1.8,1.8-4.5,5.1-8.2,9.8c-2.7,3.5-5.4,6.8-8.2,9.9 c-2.8,3.1-4.9,4.7-6.2,4.8c-1.4,0.1-2.5,0.7-3.5,1.7s-1.5,2.2-1.5,3.5v52.2c0,1.4,0.5,2.6,1.5,3.6s2.3,1.5,3.7,1.6 c1.9,0.1,6.2,1.2,12.9,3.6c4.2,1.4,7.5,2.5,9.8,3.2c2.4,0.7,5.7,1.5,9.9,2.4c4.2,0.8,8.1,1.3,11.7,1.3h1.4h6.2h2.9 c7.2-0.1,12.6-2.2,16.1-6.4c3.1-3.7,4.5-8.7,4-14.7c2.1-2,3.6-4.6,4.4-7.7c0.9-3.3,0.9-6.5,0-9.5c2.5-3.3,3.7-7,3.5-11.2 C169.9,84.4,169.5,82.3,168.7,79.9z\"></path><path class=\"pr-thumbs-cuff-fill\" fill=\"#707070\" d=\"M71.5,62.6H48c-1.4,0-2.6,0.5-3.7,1.5s-1.5,2.3-1.5,3.7v52.1c0,1.4,0.5,2.6,1.5,3.7c1,1,2.3,1.5,3.7,1.5 h23.5c1.4,0,2.6-0.5,3.7-1.5c1-1,1.5-2.3,1.5-3.7V67.8c0-1.4-0.5-2.6-1.5-3.7C74.1,63.1,72.9,62.6,71.5,62.6z M62.1,113.2 c-1,1-2.3,1.5-3.7,1.5c-1.5,0-2.7-0.5-3.7-1.5c-1-1-1.5-2.2-1.5-3.7c0-1.4,0.5-2.6,1.5-3.7c1-1,2.2-1.5,3.7-1.5 c1.4,0,2.6,0.5,3.7,1.5c1,1,1.5,2.3,1.5,3.7C63.7,111,63.2,112.2,62.1,113.2z\"></path></g></svg></span><span class=\"pr-helpful-count\">0</span></button><button type=\"button\" aria-label=\"0 unhelpful votes, give this review an unhelpful vote\" aria-pressed=\"false\" aria-describedby=\"pr-rd-review-headline-525755954\" class=\"pr-helpful-btn pr-helpful-no\"><span class=\"pr-thumbs-icon pr-thumbs-icon-down\"><svg version=\"1.1\" x=\"0px\" y=\"0px\" viewBox=\"0 0 216 146\" xml:space=\"preserve\" focusable=\"false\" aria-hidden=\"true\"><g><path class=\"pr-thumbs-fill\" fill=\"#707070\" d=\"M168.7,79.9c3-3.4,4.5-7.5,4.5-12.1c0-4.2-1.6-7.9-4.6-11c-3.1-3.1-6.8-4.6-11-4.6H135 c0.2-0.8,0.4-1.4,0.7-2s0.5-1.1,0.9-1.8s0.7-1.1,0.8-1.5c1-1.8,1.7-3.4,2.2-4.6c0.5-1.2,1-2.8,1.5-4.9c0.5-2.1,0.8-4.1,0.8-6.2 c0-1.3,0-2.4,0-3.2c0-0.8-0.2-2-0.4-3.7c-0.2-1.6-0.6-3-1-4.1c-0.4-1.1-1.1-2.3-2-3.7c-0.9-1.4-2-2.5-3.3-3.3s-2.9-1.5-4.9-2.1 c-2-0.6-4.2-0.9-6.7-0.9c-1.4,0-2.6,0.5-3.7,1.5c-1.1,1.1-2,2.4-2.8,4.1c-0.8,1.6-1.3,3-1.6,4.2c-0.3,1.2-0.6,2.9-1,5 c-0.5,2.3-0.9,3.9-1.1,4.9c-0.2,1-0.7,2.3-1.4,4c-0.7,1.6-1.5,2.9-2.5,3.9c-1.8,1.8-4.5,5.1-8.2,9.8c-2.7,3.5-5.4,6.8-8.2,9.9 c-2.8,3.1-4.9,4.7-6.2,4.8c-1.4,0.1-2.5,0.7-3.5,1.7s-1.5,2.2-1.5,3.5v52.2c0,1.4,0.5,2.6,1.5,3.6s2.3,1.5,3.7,1.6 c1.9,0.1,6.2,1.2,12.9,3.6c4.2,1.4,7.5,2.5,9.8,3.2c2.4,0.7,5.7,1.5,9.9,2.4c4.2,0.8,8.1,1.3,11.7,1.3h1.4h6.2h2.9 c7.2-0.1,12.6-2.2,16.1-6.4c3.1-3.7,4.5-8.7,4-14.7c2.1-2,3.6-4.6,4.4-7.7c0.9-3.3,0.9-6.5,0-9.5c2.5-3.3,3.7-7,3.5-11.2 C169.9,84.4,169.5,82.3,168.7,79.9z\"></path><path class=\"pr-thumbs-cuff-fill\" fill=\"#707070\" d=\"M71.5,62.6H48c-1.4,0-2.6,0.5-3.7,1.5s-1.5,2.3-1.5,3.7v52.1c0,1.4,0.5,2.6,1.5,3.7c1,1,2.3,1.5,3.7,1.5 h23.5c1.4,0,2.6-0.5,3.7-1.5c1-1,1.5-2.3,1.5-3.7V67.8c0-1.4-0.5-2.6-1.5-3.7C74.1,63.1,72.9,62.6,71.5,62.6z M62.1,113.2 c-1,1-2.3,1.5-3.7,1.5c-1.5,0-2.7-0.5-3.7-1.5c-1-1-1.5-2.2-1.5-3.7c0-1.4,0.5-2.6,1.5-3.7c1-1,2.2-1.5,3.7-1.5 c1.4,0,2.6,0.5,3.7,1.5c1,1,1.5,2.3,1.5,3.7C63.7,111,63.2,112.2,62.1,113.2z\"></path></g></svg></span><span class=\"pr-helpful-count\">0</span></button></div><div class=\"pr-rd-flag-review-container\"><button aria-describedby=\"pr-rd-review-headline-525755954\" class=\"pr-rd-flag-review-btn\">Flag this review</button></div></div></div></footer></div><div class=\"pr-review\" role=\"group\" aria-label=\"review\"><header class=\"pr-rd-header pr-rd-content-block\"><div class=\"pr-rd-star-rating\"><div><div class=\"pr-snippet-stars pr-snippet-stars-png\" role=\"img\" aria-label=\"Rated 4 out of 5 stars\"><div aria-hidden=\"true\" class=\"pr-rating-stars\"><div class=\"pr-star-v4 pr-star-v4-100-filled\"></div><div class=\"pr-star-v4 pr-star-v4-100-filled\"></div><div class=\"pr-star-v4 pr-star-v4-100-filled\"></div><div class=\"pr-star-v4 pr-star-v4-100-filled\"></div><div class=\"pr-star-v4 pr-star-v4-0-filled\"></div></div><div aria-hidden=\"true\" class=\"pr-snippet-rating-decimal\">4</div></div></div></div><h5 tabindex=\"-1\" data-testid=\"headline-525721590\" id=\"pr-rd-review-headline-525721590\" lang=\"en\" class=\"pr-rd-review-headline pr-h2\">Love the product - HATE the new packaging!</h5></header><section class=\"pr-rd-description pr-rd-content-block\"><div class=\"pr-rd-side-content-block pr-rd-right\"><div class=\"pr-rd-reviewer-details pr-rd-inner-side-content-block\"><p class=\"pr-rd-details pr-rd-author-submission-date\"><span class=\"pr-rd-bold\">Submitted </span><span data-datetime=\"2024-07-27T20:26:45.980Z\"> 11 days ago</span></p><p class=\"pr-rd-details pr-rd-author-nickname\"><span><span class=\"pr-rd-bold\">By&nbsp;</span><span>Rose D</span></span></p><p class=\"pr-rd-details pr-rd-author-location\"><span><span class=\"pr-rd-bold\">From&nbsp;</span><span>Virginia</span></span></p></div></div><p class=\"pr-rd-description-text\" lang=\"en\">I've been using Ulta's eyeshadows for years and have always loved them. What I loved most about this line of eyeshadow is that they are sold as singles and you aren't forced to buy an entire palette of shades where you wind up using only one or two of the shades that come with the palette. Ulta's old packaging allowed for the eyeshadow to pop out of its compact if you wanted to put it into a magnetic palette with other shades. Having all my favorite shades in one palette was so convenient and eliminated having multiple little eyeshadow compacts floating around my makeup drawer/bag. With the new packaging, the eyeshadow cannot be removed from the compact. I am very disappointed and will look for a different eyeshadow brand that sells single eyeshadows that have the feature to remove it from its compact.</p></section><section class=\"pr-rd-images pr-rd-content-block\"></section><footer class=\"pr-rd-footer pr-rd-content-block\"><p class=\"pr-rd-bottomline pr-rd-inner-content-block\"><span class=\"pr-rd-bold\">Bottom Line</span><span> No, I would not recommend to a friend</span></p><div class=\"pr-rd-helpful-action\"><div class=\"pr-rd-helpful-action-group\"><div class=\"pr-rd-helpful-action-legend\"><h6 id=\"pr-zIL0guczqwPoiMLips6tq\" class=\"pr-rd-helpful-text pr-rd-bold\">Was this review helpful to you?</h6></div><div class=\"pr-helpful-voting pr-rd-helpful-action-btn-group\" role=\"group\" aria-labelledby=\"pr-zIL0guczqwPoiMLips6tq\"><button type=\"button\" aria-label=\"0 helpful votes, give this review a helpful vote\" aria-pressed=\"false\" aria-describedby=\"pr-rd-review-headline-525721590\" class=\"pr-helpful-btn pr-helpful-yes\"><span class=\"pr-thumbs-icon pr-thumbs-icon-up\"><svg version=\"1.1\" x=\"0px\" y=\"0px\" viewBox=\"0 0 216 146\" xml:space=\"preserve\" focusable=\"false\" aria-hidden=\"true\"><g><path class=\"pr-thumbs-fill\" fill=\"#707070\" d=\"M168.7,79.9c3-3.4,4.5-7.5,4.5-12.1c0-4.2-1.6-7.9-4.6-11c-3.1-3.1-6.8-4.6-11-4.6H135 c0.2-0.8,0.4-1.4,0.7-2s0.5-1.1,0.9-1.8s0.7-1.1,0.8-1.5c1-1.8,1.7-3.4,2.2-4.6c0.5-1.2,1-2.8,1.5-4.9c0.5-2.1,0.8-4.1,0.8-6.2 c0-1.3,0-2.4,0-3.2c0-0.8-0.2-2-0.4-3.7c-0.2-1.6-0.6-3-1-4.1c-0.4-1.1-1.1-2.3-2-3.7c-0.9-1.4-2-2.5-3.3-3.3s-2.9-1.5-4.9-2.1 c-2-0.6-4.2-0.9-6.7-0.9c-1.4,0-2.6,0.5-3.7,1.5c-1.1,1.1-2,2.4-2.8,4.1c-0.8,1.6-1.3,3-1.6,4.2c-0.3,1.2-0.6,2.9-1,5 c-0.5,2.3-0.9,3.9-1.1,4.9c-0.2,1-0.7,2.3-1.4,4c-0.7,1.6-1.5,2.9-2.5,3.9c-1.8,1.8-4.5,5.1-8.2,9.8c-2.7,3.5-5.4,6.8-8.2,9.9 c-2.8,3.1-4.9,4.7-6.2,4.8c-1.4,0.1-2.5,0.7-3.5,1.7s-1.5,2.2-1.5,3.5v52.2c0,1.4,0.5,2.6,1.5,3.6s2.3,1.5,3.7,1.6 c1.9,0.1,6.2,1.2,12.9,3.6c4.2,1.4,7.5,2.5,9.8,3.2c2.4,0.7,5.7,1.5,9.9,2.4c4.2,0.8,8.1,1.3,11.7,1.3h1.4h6.2h2.9 c7.2-0.1,12.6-2.2,16.1-6.4c3.1-3.7,4.5-8.7,4-14.7c2.1-2,3.6-4.6,4.4-7.7c0.9-3.3,0.9-6.5,0-9.5c2.5-3.3,3.7-7,3.5-11.2 C169.9,84.4,169.5,82.3,168.7,79.9z\"></path><path class=\"pr-thumbs-cuff-fill\" fill=\"#707070\" d=\"M71.5,62.6H48c-1.4,0-2.6,0.5-3.7,1.5s-1.5,2.3-1.5,3.7v52.1c0,1.4,0.5,2.6,1.5,3.7c1,1,2.3,1.5,3.7,1.5 h23.5c1.4,0,2.6-0.5,3.7-1.5c1-1,1.5-2.3,1.5-3.7V67.8c0-1.4-0.5-2.6-1.5-3.7C74.1,63.1,72.9,62.6,71.5,62.6z M62.1,113.2 c-1,1-2.3,1.5-3.7,1.5c-1.5,0-2.7-0.5-3.7-1.5c-1-1-1.5-2.2-1.5-3.7c0-1.4,0.5-2.6,1.5-3.7c1-1,2.2-1.5,3.7-1.5 c1.4,0,2.6,0.5,3.7,1.5c1,1,1.5,2.3,1.5,3.7C63.7,111,63.2,112.2,62.1,113.2z\"></path></g></svg></span><span class=\"pr-helpful-count\">0</span></button><button type=\"button\" aria-label=\"0 unhelpful votes, give this review an unhelpful vote\" aria-pressed=\"false\" aria-describedby=\"pr-rd-review-headline-525721590\" class=\"pr-helpful-btn pr-helpful-no\"><span class=\"pr-thumbs-icon pr-thumbs-icon-down\"><svg version=\"1.1\" x=\"0px\" y=\"0px\" viewBox=\"0 0 216 146\" xml:space=\"preserve\" focusable=\"false\" aria-hidden=\"true\"><g><path class=\"pr-thumbs-fill\" fill=\"#707070\" d=\"M168.7,79.9c3-3.4,4.5-7.5,4.5-12.1c0-4.2-1.6-7.9-4.6-11c-3.1-3.1-6.8-4.6-11-4.6H135 c0.2-0.8,0.4-1.4,0.7-2s0.5-1.1,0.9-1.8s0.7-1.1,0.8-1.5c1-1.8,1.7-3.4,2.2-4.6c0.5-1.2,1-2.8,1.5-4.9c0.5-2.1,0.8-4.1,0.8-6.2 c0-1.3,0-2.4,0-3.2c0-0.8-0.2-2-0.4-3.7c-0.2-1.6-0.6-3-1-4.1c-0.4-1.1-1.1-2.3-2-3.7c-0.9-1.4-2-2.5-3.3-3.3s-2.9-1.5-4.9-2.1 c-2-0.6-4.2-0.9-6.7-0.9c-1.4,0-2.6,0.5-3.7,1.5c-1.1,1.1-2,2.4-2.8,4.1c-0.8,1.6-1.3,3-1.6,4.2c-0.3,1.2-0.6,2.9-1,5 c-0.5,2.3-0.9,3.9-1.1,4.9c-0.2,1-0.7,2.3-1.4,4c-0.7,1.6-1.5,2.9-2.5,3.9c-1.8,1.8-4.5,5.1-8.2,9.8c-2.7,3.5-5.4,6.8-8.2,9.9 c-2.8,3.1-4.9,4.7-6.2,4.8c-1.4,0.1-2.5,0.7-3.5,1.7s-1.5,2.2-1.5,3.5v52.2c0,1.4,0.5,2.6,1.5,3.6s2.3,1.5,3.7,1.6 c1.9,0.1,6.2,1.2,12.9,3.6c4.2,1.4,7.5,2.5,9.8,3.2c2.4,0.7,5.7,1.5,9.9,2.4c4.2,0.8,8.1,1.3,11.7,1.3h1.4h6.2h2.9 c7.2-0.1,12.6-2.2,16.1-6.4c3.1-3.7,4.5-8.7,4-14.7c2.1-2,3.6-4.6,4.4-7.7c0.9-3.3,0.9-6.5,0-9.5c2.5-3.3,3.7-7,3.5-11.2 C169.9,84.4,169.5,82.3,168.7,79.9z\"></path><path class=\"pr-thumbs-cuff-fill\" fill=\"#707070\" d=\"M71.5,62.6H48c-1.4,0-2.6,0.5-3.7,1.5s-1.5,2.3-1.5,3.7v52.1c0,1.4,0.5,2.6,1.5,3.7c1,1,2.3,1.5,3.7,1.5 h23.5c1.4,0,2.6-0.5,3.7-1.5c1-1,1.5-2.3,1.5-3.7V67.8c0-1.4-0.5-2.6-1.5-3.7C74.1,63.1,72.9,62.6,71.5,62.6z M62.1,113.2 c-1,1-2.3,1.5-3.7,1.5c-1.5,0-2.7-0.5-3.7-1.5c-1-1-1.5-2.2-1.5-3.7c0-1.4,0.5-2.6,1.5-3.7c1-1,2.2-1.5,3.7-1.5 c1.4,0,2.6,0.5,3.7,1.5c1,1,1.5,2.3,1.5,3.7C63.7,111,63.2,112.2,62.1,113.2z\"></path></g></svg></span><span class=\"pr-helpful-count\">0</span></button></div><div class=\"pr-rd-flag-review-container\"><button aria-describedby=\"pr-rd-review-headline-525721590\" class=\"pr-rd-flag-review-btn\">Flag this review</button></div></div></div></footer></div><div class=\"pr-review\" role=\"group\" aria-label=\"review\"><header class=\"pr-rd-header pr-rd-content-block\"><div class=\"pr-rd-star-rating\"><div><div class=\"pr-snippet-stars pr-snippet-stars-png\" role=\"img\" aria-label=\"Rated 2 out of 5 stars\"><div aria-hidden=\"true\" class=\"pr-rating-stars\"><div class=\"pr-star-v4 pr-star-v4-100-filled\"></div><div class=\"pr-star-v4 pr-star-v4-100-filled\"></div><div class=\"pr-star-v4 pr-star-v4-0-filled\"></div><div class=\"pr-star-v4 pr-star-v4-0-filled\"></div><div class=\"pr-star-v4 pr-star-v4-0-filled\"></div></div><div aria-hidden=\"true\" class=\"pr-snippet-rating-decimal\">2</div></div></div></div><h5 tabindex=\"-1\" data-testid=\"headline-525349083\" id=\"pr-rd-review-headline-525349083\" lang=\"en\" class=\"pr-rd-review-headline pr-h2\">Broke</h5></header><section class=\"pr-rd-description pr-rd-content-block\"><div class=\"pr-rd-side-content-block pr-rd-right\"><div class=\"pr-rd-reviewer-details pr-rd-inner-side-content-block\"><p class=\"pr-rd-details pr-rd-author-submission-date\"><span class=\"pr-rd-bold\">Submitted </span><span data-datetime=\"2024-07-20T00:29:11.176Z\"> 18 days ago</span></p><p class=\"pr-rd-details pr-rd-author-nickname\"><span><span class=\"pr-rd-bold\">By&nbsp;</span><span>Worst eyeshadow single</span></span></p><p class=\"pr-rd-details pr-rd-author-location\"><span><span class=\"pr-rd-bold\">From&nbsp;</span><span>Maryland</span></span></p></div></div><p class=\"pr-rd-description-text\" lang=\"en\">It broke after about a day of having it</p></section><section class=\"pr-rd-images pr-rd-content-block\"></section><footer class=\"pr-rd-footer pr-rd-content-block\"><div class=\"pr-rd-helpful-action\"><div class=\"pr-rd-helpful-action-group\"><div class=\"pr-rd-helpful-action-legend\"><h6 id=\"pr-BgkKwLlzFjlZaEVl1Qz3K\" class=\"pr-rd-helpful-text pr-rd-bold\">Was this review helpful to you?</h6></div><div class=\"pr-helpful-voting pr-rd-helpful-action-btn-group\" role=\"group\" aria-labelledby=\"pr-BgkKwLlzFjlZaEVl1Qz3K\"><button type=\"button\" aria-label=\"0 helpful votes, give this review a helpful vote\" aria-pressed=\"false\" aria-describedby=\"pr-rd-review-headline-525349083\" class=\"pr-helpful-btn pr-helpful-yes\"><span class=\"pr-thumbs-icon pr-thumbs-icon-up\"><svg version=\"1.1\" x=\"0px\" y=\"0px\" viewBox=\"0 0 216 146\" xml:space=\"preserve\" focusable=\"false\" aria-hidden=\"true\"><g><path class=\"pr-thumbs-fill\" fill=\"#707070\" d=\"M168.7,79.9c3-3.4,4.5-7.5,4.5-12.1c0-4.2-1.6-7.9-4.6-11c-3.1-3.1-6.8-4.6-11-4.6H135 c0.2-0.8,0.4-1.4,0.7-2s0.5-1.1,0.9-1.8s0.7-1.1,0.8-1.5c1-1.8,1.7-3.4,2.2-4.6c0.5-1.2,1-2.8,1.5-4.9c0.5-2.1,0.8-4.1,0.8-6.2 c0-1.3,0-2.4,0-3.2c0-0.8-0.2-2-0.4-3.7c-0.2-1.6-0.6-3-1-4.1c-0.4-1.1-1.1-2.3-2-3.7c-0.9-1.4-2-2.5-3.3-3.3s-2.9-1.5-4.9-2.1 c-2-0.6-4.2-0.9-6.7-0.9c-1.4,0-2.6,0.5-3.7,1.5c-1.1,1.1-2,2.4-2.8,4.1c-0.8,1.6-1.3,3-1.6,4.2c-0.3,1.2-0.6,2.9-1,5 c-0.5,2.3-0.9,3.9-1.1,4.9c-0.2,1-0.7,2.3-1.4,4c-0.7,1.6-1.5,2.9-2.5,3.9c-1.8,1.8-4.5,5.1-8.2,9.8c-2.7,3.5-5.4,6.8-8.2,9.9 c-2.8,3.1-4.9,4.7-6.2,4.8c-1.4,0.1-2.5,0.7-3.5,1.7s-1.5,2.2-1.5,3.5v52.2c0,1.4,0.5,2.6,1.5,3.6s2.3,1.5,3.7,1.6 c1.9,0.1,6.2,1.2,12.9,3.6c4.2,1.4,7.5,2.5,9.8,3.2c2.4,0.7,5.7,1.5,9.9,2.4c4.2,0.8,8.1,1.3,11.7,1.3h1.4h6.2h2.9 c7.2-0.1,12.6-2.2,16.1-6.4c3.1-3.7,4.5-8.7,4-14.7c2.1-2,3.6-4.6,4.4-7.7c0.9-3.3,0.9-6.5,0-9.5c2.5-3.3,3.7-7,3.5-11.2 C169.9,84.4,169.5,82.3,168.7,79.9z\"></path><path class=\"pr-thumbs-cuff-fill\" fill=\"#707070\" d=\"M71.5,62.6H48c-1.4,0-2.6,0.5-3.7,1.5s-1.5,2.3-1.5,3.7v52.1c0,1.4,0.5,2.6,1.5,3.7c1,1,2.3,1.5,3.7,1.5 h23.5c1.4,0,2.6-0.5,3.7-1.5c1-1,1.5-2.3,1.5-3.7V67.8c0-1.4-0.5-2.6-1.5-3.7C74.1,63.1,72.9,62.6,71.5,62.6z M62.1,113.2 c-1,1-2.3,1.5-3.7,1.5c-1.5,0-2.7-0.5-3.7-1.5c-1-1-1.5-2.2-1.5-3.7c0-1.4,0.5-2.6,1.5-3.7c1-1,2.2-1.5,3.7-1.5 c1.4,0,2.6,0.5,3.7,1.5c1,1,1.5,2.3,1.5,3.7C63.7,111,63.2,112.2,62.1,113.2z\"></path></g></svg></span><span class=\"pr-helpful-count\">0</span></button><button type=\"button\" aria-label=\"0 unhelpful votes, give this review an unhelpful vote\" aria-pressed=\"false\" aria-describedby=\"pr-rd-review-headline-525349083\" class=\"pr-helpful-btn pr-helpful-no\"><span class=\"pr-thumbs-icon pr-thumbs-icon-down\"><svg version=\"1.1\" x=\"0px\" y=\"0px\" viewBox=\"0 0 216 146\" xml:space=\"preserve\" focusable=\"false\" aria-hidden=\"true\"><g><path class=\"pr-thumbs-fill\" fill=\"#707070\" d=\"M168.7,79.9c3-3.4,4.5-7.5,4.5-12.1c0-4.2-1.6-7.9-4.6-11c-3.1-3.1-6.8-4.6-11-4.6H135 c0.2-0.8,0.4-1.4,0.7-2s0.5-1.1,0.9-1.8s0.7-1.1,0.8-1.5c1-1.8,1.7-3.4,2.2-4.6c0.5-1.2,1-2.8,1.5-4.9c0.5-2.1,0.8-4.1,0.8-6.2 c0-1.3,0-2.4,0-3.2c0-0.8-0.2-2-0.4-3.7c-0.2-1.6-0.6-3-1-4.1c-0.4-1.1-1.1-2.3-2-3.7c-0.9-1.4-2-2.5-3.3-3.3s-2.9-1.5-4.9-2.1 c-2-0.6-4.2-0.9-6.7-0.9c-1.4,0-2.6,0.5-3.7,1.5c-1.1,1.1-2,2.4-2.8,4.1c-0.8,1.6-1.3,3-1.6,4.2c-0.3,1.2-0.6,2.9-1,5 c-0.5,2.3-0.9,3.9-1.1,4.9c-0.2,1-0.7,2.3-1.4,4c-0.7,1.6-1.5,2.9-2.5,3.9c-1.8,1.8-4.5,5.1-8.2,9.8c-2.7,3.5-5.4,6.8-8.2,9.9 c-2.8,3.1-4.9,4.7-6.2,4.8c-1.4,0.1-2.5,0.7-3.5,1.7s-1.5,2.2-1.5,3.5v52.2c0,1.4,0.5,2.6,1.5,3.6s2.3,1.5,3.7,1.6 c1.9,0.1,6.2,1.2,12.9,3.6c4.2,1.4,7.5,2.5,9.8,3.2c2.4,0.7,5.7,1.5,9.9,2.4c4.2,0.8,8.1,1.3,11.7,1.3h1.4h6.2h2.9 c7.2-0.1,12.6-2.2,16.1-6.4c3.1-3.7,4.5-8.7,4-14.7c2.1-2,3.6-4.6,4.4-7.7c0.9-3.3,0.9-6.5,0-9.5c2.5-3.3,3.7-7,3.5-11.2 C169.9,84.4,169.5,82.3,168.7,79.9z\"></path><path class=\"pr-thumbs-cuff-fill\" fill=\"#707070\" d=\"M71.5,62.6H48c-1.4,0-2.6,0.5-3.7,1.5s-1.5,2.3-1.5,3.7v52.1c0,1.4,0.5,2.6,1.5,3.7c1,1,2.3,1.5,3.7,1.5 h23.5c1.4,0,2.6-0.5,3.7-1.5c1-1,1.5-2.3,1.5-3.7V67.8c0-1.4-0.5-2.6-1.5-3.7C74.1,63.1,72.9,62.6,71.5,62.6z M62.1,113.2 c-1,1-2.3,1.5-3.7,1.5c-1.5,0-2.7-0.5-3.7-1.5c-1-1-1.5-2.2-1.5-3.7c0-1.4,0.5-2.6,1.5-3.7c1-1,2.2-1.5,3.7-1.5 c1.4,0,2.6,0.5,3.7,1.5c1,1,1.5,2.3,1.5,3.7C63.7,111,63.2,112.2,62.1,113.2z\"></path></g></svg></span><span class=\"pr-helpful-count\">0</span></button></div><div class=\"pr-rd-flag-review-container\"><button aria-describedby=\"pr-rd-review-headline-525349083\" class=\"pr-rd-flag-review-btn\">Flag this review</button></div></div></div></footer></div><footer class=\"pr-rd-main-footer\"><div class=\"pr-rd-content-block\"><p class=\"pr-rd-review-position\"><span>Displaying Reviews </span><span class=\"pr-rd-bold\">1-5</span></p><a href=\"#\" class=\"pr-rd-to-top pr-underline\" aria-label=\"Back to Top\">Back to Top</a><div class=\"pr-rd-pagination\"><a href=\"https://www.ulta.com/p/eyeshadow-single-pimprod2045216?sku=2616812&amp;pr_rd_page=2\" class=\"pr-rd-pagination-btn pr-rd-pagination-btn--next\">Next<span aria-hidden=\"true\"> »</span></a></div></div></footer></section></div></div></div></div>"
      ],
      "metadata": {
        "id": "vUJ-irpqTQGv"
      },
      "execution_count": null,
      "outputs": []
    }
  ]
}