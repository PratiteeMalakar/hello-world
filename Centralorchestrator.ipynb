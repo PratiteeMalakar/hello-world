{
  "nbformat": 4,
  "nbformat_minor": 0,
  "metadata": {
    "colab": {
      "provenance": [],
      "authorship_tag": "ABX9TyMevbIbq5n+nmZqr7x4//vZ",
      "include_colab_link": true
    },
    "kernelspec": {
      "name": "python3",
      "display_name": "Python 3"
    },
    "language_info": {
      "name": "python"
    }
  },
  "cells": [
    {
      "cell_type": "markdown",
      "metadata": {
        "id": "view-in-github",
        "colab_type": "text"
      },
      "source": [
        "<a href=\"https://colab.research.google.com/github/PratiteeMalakar/hello-world/blob/main/Centralorchestrator.ipynb\" target=\"_parent\"><img src=\"https://colab.research.google.com/assets/colab-badge.svg\" alt=\"Open In Colab\"/></a>"
      ]
    },
    {
      "cell_type": "code",
      "execution_count": 1,
      "metadata": {
        "colab": {
          "base_uri": "https://localhost:8080/"
        },
        "id": "BuJ3Wh51RQeu",
        "outputId": "cb324c24-975f-4488-c68b-c89ad35cd634"
      },
      "outputs": [
        {
          "output_type": "stream",
          "name": "stdout",
          "text": [
            "Collecting pinecone-client\n",
            "  Downloading pinecone_client-5.0.1-py3-none-any.whl.metadata (19 kB)\n",
            "Requirement already satisfied: certifi>=2019.11.17 in /usr/local/lib/python3.10/dist-packages (from pinecone-client) (2024.7.4)\n",
            "Collecting pinecone-plugin-inference<2.0.0,>=1.0.3 (from pinecone-client)\n",
            "  Downloading pinecone_plugin_inference-1.0.3-py3-none-any.whl.metadata (2.2 kB)\n",
            "Collecting pinecone-plugin-interface<0.0.8,>=0.0.7 (from pinecone-client)\n",
            "  Downloading pinecone_plugin_interface-0.0.7-py3-none-any.whl.metadata (1.2 kB)\n",
            "Requirement already satisfied: tqdm>=4.64.1 in /usr/local/lib/python3.10/dist-packages (from pinecone-client) (4.66.4)\n",
            "Requirement already satisfied: typing-extensions>=3.7.4 in /usr/local/lib/python3.10/dist-packages (from pinecone-client) (4.12.2)\n",
            "Requirement already satisfied: urllib3>=1.26.0 in /usr/local/lib/python3.10/dist-packages (from pinecone-client) (2.0.7)\n",
            "Downloading pinecone_client-5.0.1-py3-none-any.whl (244 kB)\n",
            "\u001b[2K   \u001b[90m━━━━━━━━━━━━━━━━━━━━━━━━━━━━━━━━━━━━━━━━\u001b[0m \u001b[32m244.8/244.8 kB\u001b[0m \u001b[31m4.4 MB/s\u001b[0m eta \u001b[36m0:00:00\u001b[0m\n",
            "\u001b[?25hDownloading pinecone_plugin_inference-1.0.3-py3-none-any.whl (117 kB)\n",
            "\u001b[2K   \u001b[90m━━━━━━━━━━━━━━━━━━━━━━━━━━━━━━━━━━━━━━━━\u001b[0m \u001b[32m117.6/117.6 kB\u001b[0m \u001b[31m4.8 MB/s\u001b[0m eta \u001b[36m0:00:00\u001b[0m\n",
            "\u001b[?25hDownloading pinecone_plugin_interface-0.0.7-py3-none-any.whl (6.2 kB)\n",
            "Installing collected packages: pinecone-plugin-interface, pinecone-plugin-inference, pinecone-client\n",
            "Successfully installed pinecone-client-5.0.1 pinecone-plugin-inference-1.0.3 pinecone-plugin-interface-0.0.7\n"
          ]
        }
      ],
      "source": [
        "pip install pinecone-client\n"
      ]
    },
    {
      "cell_type": "code",
      "source": [
        "import pandas as pd\n",
        "import numpy as np\n",
        "\n",
        "# Generate sample data for demand forecasting\n",
        "dates = pd.date_range(start='2023-01-01', periods=365, freq='D')\n",
        "products = ['Product_A', 'Product_B', 'Product_C']\n",
        "\n",
        "data = []\n",
        "for product in products:\n",
        "    sales = np.random.poisson(lam=20, size=len(dates))\n",
        "    data.extend(zip([product]*len(dates), dates, sales))\n",
        "\n",
        "df_sales = pd.DataFrame(data, columns=['Product', 'Date', 'Sales'])\n",
        "df_sales.to_csv('sales_data.csv', index=False)\n",
        "\n",
        "# Generate sample data for inventory levels\n",
        "inventory_data = {'Product': products, 'Inventory_Level': [100, 150, 200]}\n",
        "df_inventory = pd.DataFrame(inventory_data)\n",
        "df_inventory.to_csv('inventory_data.csv', index=False)\n",
        "\n",
        "# Generate sample data for logistics\n",
        "logistics_data = {\n",
        "    'Product': products,\n",
        "    'Warehouse': ['W1', 'W2', 'W3'],\n",
        "    'Transportation_Cost': [10, 15, 20]\n",
        "}\n",
        "df_logistics = pd.DataFrame(logistics_data)\n",
        "df_logistics.to_csv('logistics_data.csv', index=False)\n"
      ],
      "metadata": {
        "id": "i8QNqCVORqNQ"
      },
      "execution_count": 2,
      "outputs": []
    },
    {
      "cell_type": "code",
      "source": [
        "from sklearn.linear_model import LinearRegression\n",
        "import pandas as pd\n",
        "\n",
        "# Load data\n",
        "df_sales = pd.read_csv('sales_data.csv')\n",
        "\n",
        "# Feature engineering\n",
        "df_sales['DayOfYear'] = pd.to_datetime(df_sales['Date']).dt.dayofyear\n",
        "X = df_sales[['DayOfYear']]\n",
        "y = df_sales['Sales']\n",
        "\n",
        "# Train model\n",
        "model = LinearRegression()\n",
        "model.fit(X, y)\n",
        "\n",
        "# Save the model\n",
        "import joblib\n",
        "joblib.dump(model, 'demand_forecasting_model.pkl')\n"
      ],
      "metadata": {
        "colab": {
          "base_uri": "https://localhost:8080/"
        },
        "id": "MdhJiyDxRqQM",
        "outputId": "b56ea410-9592-4427-b862-3a72c56501a9"
      },
      "execution_count": 3,
      "outputs": [
        {
          "output_type": "execute_result",
          "data": {
            "text/plain": [
              "['demand_forecasting_model.pkl']"
            ]
          },
          "metadata": {},
          "execution_count": 3
        }
      ]
    },
    {
      "cell_type": "code",
      "source": [
        "def optimize_inventory(demand_forecast, current_inventory):\n",
        "    reorder_point = demand_forecast.mean() * 1.5\n",
        "    optimal_inventory = reorder_point - current_inventory\n",
        "    return max(0, optimal_inventory)\n",
        "\n",
        "# Example usage\n",
        "current_inventory = 100\n",
        "demand_forecast = np.array([20, 22, 25, 18, 30])\n",
        "optimal_inventory = optimize_inventory(demand_forecast, current_inventory)\n",
        "print(f'Optimal inventory to order: {optimal_inventory}')\n"
      ],
      "metadata": {
        "colab": {
          "base_uri": "https://localhost:8080/"
        },
        "id": "OL39K7NzRqTb",
        "outputId": "26b0ce43-a643-4ebc-b7cd-8f4ab9d6a600"
      },
      "execution_count": 4,
      "outputs": [
        {
          "output_type": "stream",
          "name": "stdout",
          "text": [
            "Optimal inventory to order: 0\n"
          ]
        }
      ]
    },
    {
      "cell_type": "code",
      "source": [
        "def optimize_logistics(inventory_plan, logistics_data):\n",
        "    logistics_plan = {}\n",
        "    for product, qty in inventory_plan.items():\n",
        "        warehouse = logistics_data[logistics_data['Product'] == product]['Warehouse'].values[0]\n",
        "        logistics_plan[product] = {'Warehouse': warehouse, 'Quantity': qty}\n",
        "    return logistics_plan\n",
        "\n",
        "# Example usage\n",
        "inventory_plan = {'Product_A': 50, 'Product_B': 70}\n",
        "logistics_data = pd.read_csv('logistics_data.csv')\n",
        "logistics_plan = optimize_logistics(inventory_plan, logistics_data)\n",
        "print(logistics_plan)\n"
      ],
      "metadata": {
        "colab": {
          "base_uri": "https://localhost:8080/"
        },
        "id": "tbQq6uVJRqV8",
        "outputId": "6b2869df-ea42-473e-d5cc-694a7760405b"
      },
      "execution_count": 5,
      "outputs": [
        {
          "output_type": "stream",
          "name": "stdout",
          "text": [
            "{'Product_A': {'Warehouse': 'W1', 'Quantity': 50}, 'Product_B': {'Warehouse': 'W2', 'Quantity': 70}}\n"
          ]
        }
      ]
    },
    {
      "cell_type": "code",
      "source": [
        "from flask import Flask, request, jsonify\n",
        "import joblib\n",
        "import pandas as pd\n",
        "import numpy as np\n",
        "\n",
        "app = Flask(__name__)\n",
        "\n",
        "# Load models\n",
        "demand_model = joblib.load('demand_forecasting_model.pkl')\n",
        "\n",
        "@app.route('/forecast', methods=['GET'])\n",
        "def forecast():\n",
        "    product = request.args.get('product')\n",
        "    days_ahead = int(request.args.get('days_ahead'))\n",
        "\n",
        "    # Load sales data\n",
        "    df_sales = pd.read_csv('sales_data.csv')\n",
        "    df_product = df_sales[df_sales['Product'] == product]\n",
        "    latest_day = pd.to_datetime(df_product['Date']).dt.dayofyear.max()\n",
        "\n",
        "    # Forecast demand\n",
        "    future_days = np.array(range(latest_day + 1, latest_day + 1 + days_ahead)).reshape(-1, 1)\n",
        "    demand_forecast = demand_model.predict(future_days)\n",
        "\n",
        "    return jsonify({'product': product, 'forecast': demand_forecast.tolist()})\n",
        "\n",
        "@app.route('/optimize_inventory', methods=['POST'])\n",
        "def optimize_inventory_route():\n",
        "    data = request.get_json()\n",
        "    product = data['product']\n",
        "    current_inventory = data['current_inventory']\n",
        "\n",
        "    # Load sales data\n",
        "    df_sales = pd.read_csv('sales_data.csv')\n",
        "    df_product = df_sales[df_sales['Product'] == product]\n",
        "\n",
        "    # Forecast demand\n",
        "    days_ahead = 30\n",
        "    latest_day = pd.to_datetime(df_product['Date']).dt.dayofyear.max()\n",
        "    future_days = np.array(range(latest_day + 1, latest_day + 1 + days_ahead)).reshape(-1, 1)\n",
        "    demand_forecast = demand_model.predict(future_days)\n",
        "\n",
        "    # Optimize inventory\n",
        "    optimal_inventory = optimize_inventory(demand_forecast, current_inventory)\n",
        "\n",
        "    return jsonify({'product': product, 'optimal_inventory': optimal_inventory})\n",
        "\n",
        "@app.route('/optimize_logistics', methods=['POST'])\n",
        "def optimize_logistics_route():\n",
        "    data = request.get_json()\n",
        "    inventory_plan = data['inventory_plan']\n",
        "\n",
        "    # Load logistics data\n",
        "    logistics_data = pd.read_csv('logistics_data.csv')\n",
        "\n",
        "    # Optimize logistics\n",
        "    logistics_plan = optimize_logistics(inventory_plan, logistics_data)\n",
        "\n",
        "    return jsonify(logistics_plan)\n",
        "\n",
        "if __name__ == '__main__':\n",
        "    app.run(debug=True)\n"
      ],
      "metadata": {
        "colab": {
          "base_uri": "https://localhost:8080/"
        },
        "id": "Hk0SNZgvRqY5",
        "outputId": "201f4694-60ff-4521-db59-c2feab294b76"
      },
      "execution_count": 6,
      "outputs": [
        {
          "metadata": {
            "tags": null
          },
          "name": "stdout",
          "output_type": "stream",
          "text": [
            " * Serving Flask app '__main__'\n",
            " * Debug mode: on\n"
          ]
        },
        {
          "metadata": {
            "tags": null
          },
          "name": "stderr",
          "output_type": "stream",
          "text": [
            "INFO:werkzeug:\u001b[31m\u001b[1mWARNING: This is a development server. Do not use it in a production deployment. Use a production WSGI server instead.\u001b[0m\n",
            " * Running on http://127.0.0.1:5000\n",
            "INFO:werkzeug:\u001b[33mPress CTRL+C to quit\u001b[0m\n",
            "INFO:werkzeug: * Restarting with stat\n"
          ]
        }
      ]
    },
    {
      "cell_type": "code",
      "source": [
        "# Forecast demand for Product_A for the next 30 days\n",
        "curl \"http://127.0.0.1:5000/forecast?product=Product_A&days_ahead=30\"\n",
        "\n",
        "# Optimize inventory for Product_A with current inventory level of 100\n",
        "curl -X POST -H \"Content-Type: application/json\" -d '{\"product\": \"Product_A\", \"current_inventory\": 100}' \"http://127.0.0.1:5000/optimize_inventory\"\n",
        "\n",
        "# Optimize logistics for an inventory plan\n",
        "curl -X POST -H \"Content-Type: application/json\" -d '{\"inventory_plan\": {\"Product_A\": 50, \"Product_B\": 70}}' \"http://127.0.0.1:5000/optimize_logistics\"\n"
      ],
      "metadata": {
        "colab": {
          "base_uri": "https://localhost:8080/",
          "height": 106
        },
        "id": "nPXtibElRqb5",
        "outputId": "83ba6dd9-fb13-4d90-eae3-b9a5b8d284f4"
      },
      "execution_count": 7,
      "outputs": [
        {
          "ename": "SyntaxError",
          "evalue": "invalid syntax (<ipython-input-7-8edee00c6cc3>, line 2)",
          "output_type": "error",
          "traceback": [
            "\u001b[0;36m  File \u001b[0;32m\"<ipython-input-7-8edee00c6cc3>\"\u001b[0;36m, line \u001b[0;32m2\u001b[0m\n\u001b[0;31m    curl \"http://127.0.0.1:5000/forecast?product=Product_A&days_ahead=30\"\u001b[0m\n\u001b[0m         ^\u001b[0m\n\u001b[0;31mSyntaxError\u001b[0m\u001b[0;31m:\u001b[0m invalid syntax\n"
          ]
        }
      ]
    },
    {
      "cell_type": "code",
      "source": [],
      "metadata": {
        "id": "OXL28R2gRqfG"
      },
      "execution_count": null,
      "outputs": []
    },
    {
      "cell_type": "code",
      "source": [],
      "metadata": {
        "id": "wdK8fkJRRqil"
      },
      "execution_count": null,
      "outputs": []
    }
  ]
}